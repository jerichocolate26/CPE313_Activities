{
  "cells": [
    {
      "cell_type": "markdown",
      "metadata": {},
      "source": [
        "## Feedforward Neural Network"
      ]
    },
    {
      "cell_type": "code",
      "execution_count": 1,
      "metadata": {
        "id": "zCWlzhECKo12"
      },
      "outputs": [],
      "source": [
        "import numpy as np\n",
        "\n",
        "\n",
        "class neuron:                                   # We create a class called neuron that takes the parameter of input and weight.\n",
        "  def __init__(self, input, weight):\n",
        "    self.input = input\n",
        "    self.weight = weight\n",
        "    self.add_unit = self.linear_combination()\n",
        "    self.relu = self.relu()\n",
        "    self.sigmoid = self.sigmoid()\n",
        "\n",
        "  def linear_combination(self):                 # The linear_combination function is for computing the sum of weighted inputs.\n",
        "    result = np.dot(self.input, self.weight)\n",
        "    return result\n",
        "\n",
        "  def relu(self):                         # The activation function that I used here is Rectified Linear Unit (ReLU) which will output the input if an input is positive.\n",
        "    output = self.linear_combination()\n",
        "    if output <= 0:\n",
        "      return 0\n",
        "    else:\n",
        "      return output\n",
        "\n",
        "  def sigmoid(self):                      # Sigmoid function for the final layer\n",
        "    return 1 / (1 + np.exp(self.linear_combination()))"
      ]
    },
    {
      "cell_type": "code",
      "execution_count": 2,
      "metadata": {},
      "outputs": [
        {
          "name": "stdout",
          "output_type": "stream",
          "text": [
            "n1 input: [1 2 3 5 6 1]\n",
            "n1 weight: [ 8  3  4  5 10  3]\n"
          ]
        }
      ],
      "source": [
        "n1_input = np.array([1,2,3,5,6,1])\n",
        "n1_weight = np.random.randint(1,11,size=n1_input.shape)\n",
        "print(f\"n1 input: {n1_input}\")\n",
        "print(f\"n1 weight: {n1_weight}\")"
      ]
    },
    {
      "cell_type": "code",
      "execution_count": 3,
      "metadata": {},
      "outputs": [
        {
          "name": "stdout",
          "output_type": "stream",
          "text": [
            "n1 Add unit: 114\n",
            "n1 ReLU: 114\n",
            "n1 Sigmoid: 3.0933500113085605e-50\n"
          ]
        }
      ],
      "source": [
        "n1 = neuron(n1_input, n1_weight)\n",
        "print(\"n1 Add unit:\", n1.add_unit)\n",
        "print(\"n1 ReLU:\", n1.relu)\n",
        "print(\"n1 Sigmoid:\", n1.sigmoid)"
      ]
    },
    {
      "cell_type": "code",
      "execution_count": 4,
      "metadata": {},
      "outputs": [
        {
          "name": "stdout",
          "output_type": "stream",
          "text": [
            "n2 input: [1 2 3 5 6 1]\n",
            "n2 weight: [8 5 3 9 9 6]\n"
          ]
        }
      ],
      "source": [
        "n2_input = np.array([1,2,3,5,6,1])\n",
        "n2_weight = np.random.randint(1,11,size=n2_input.shape)\n",
        "print(f\"n2 input: {n2_input}\")\n",
        "print(f\"n2 weight: {n2_weight}\")"
      ]
    },
    {
      "cell_type": "code",
      "execution_count": 5,
      "metadata": {},
      "outputs": [
        {
          "name": "stdout",
          "output_type": "stream",
          "text": [
            "n2 Add unit: 132\n",
            "n2 ReLU: 132\n",
            "n2 Sigmoid: 4.7111658015535965e-58\n"
          ]
        }
      ],
      "source": [
        "n2 = neuron(n2_input, n2_weight)\n",
        "print(\"n2 Add unit:\", n2.add_unit)\n",
        "print(\"n2 ReLU:\", n2.relu)\n",
        "print(\"n2 Sigmoid:\", n2.sigmoid)"
      ]
    },
    {
      "cell_type": "code",
      "execution_count": 6,
      "metadata": {},
      "outputs": [
        {
          "name": "stdout",
          "output_type": "stream",
          "text": [
            "n3 input: [1 2 3 5 6 1]\n",
            "n3 weight: [10  2  1  1  1 10]\n"
          ]
        }
      ],
      "source": [
        "n3_input = np.array([1,2,3,5,6,1])\n",
        "n3_weight = np.random.randint(1,11,size=n3_input.shape)\n",
        "print(f\"n3 input: {n3_input}\")\n",
        "print(f\"n3 weight: {n3_weight}\")"
      ]
    },
    {
      "cell_type": "code",
      "execution_count": 7,
      "metadata": {},
      "outputs": [
        {
          "name": "stdout",
          "output_type": "stream",
          "text": [
            "n3 Add unit: 38\n",
            "n3 ReLU: 38\n",
            "n3 Sigmoid: 3.1391327920480296e-17\n"
          ]
        }
      ],
      "source": [
        "n3 = neuron(n3_input, n3_weight)\n",
        "print(\"n3 Add unit:\", n3.add_unit)\n",
        "print(\"n3 ReLU:\", n3.relu)\n",
        "print(\"n3 Sigmoid:\", n3.sigmoid)"
      ]
    },
    {
      "cell_type": "code",
      "execution_count": 8,
      "metadata": {},
      "outputs": [
        {
          "name": "stdout",
          "output_type": "stream",
          "text": [
            "Final input: [114 132  38]\n",
            "Final weight: [7 8 1]\n"
          ]
        }
      ],
      "source": [
        "last_input = np.array([n1.relu, n2.relu, n3.relu])\n",
        "last_weight = np.random.randint(1,11,size=last_input.shape)\n",
        "print(f\"Final input: {last_input}\")\n",
        "print(f\"Final weight: {last_weight}\")"
      ]
    },
    {
      "cell_type": "code",
      "execution_count": 10,
      "metadata": {},
      "outputs": [
        {
          "name": "stdout",
          "output_type": "stream",
          "text": [
            "Final Add unit: 1892\n",
            "Final output: 0.0\n"
          ]
        },
        {
          "name": "stderr",
          "output_type": "stream",
          "text": [
            "/tmp/ipykernel_2346/1757885698.py:24: RuntimeWarning: overflow encountered in exp\n",
            "  return 1 / (1 + np.exp(self.linear_combination()))\n"
          ]
        }
      ],
      "source": [
        "final_neuron = neuron(last_input, last_weight)\n",
        "print(\"Final Add unit:\", final_neuron.add_unit)\n",
        "print(\"Final output:\", final_neuron.sigmoid)"
      ]
    },
    {
      "cell_type": "code",
      "execution_count": null,
      "metadata": {},
      "outputs": [],
      "source": []
    }
  ],
  "metadata": {
    "colab": {
      "provenance": []
    },
    "kernelspec": {
      "display_name": "Python 3 (ipykernel)",
      "language": "python",
      "name": "python3"
    },
    "language_info": {
      "codemirror_mode": {
        "name": "ipython",
        "version": 3
      },
      "file_extension": ".py",
      "mimetype": "text/x-python",
      "name": "python",
      "nbconvert_exporter": "python",
      "pygments_lexer": "ipython3",
      "version": "3.10.13"
    }
  },
  "nbformat": 4,
  "nbformat_minor": 0
}
