{
  "cells": [
    {
      "cell_type": "markdown",
      "metadata": {},
      "source": [
        "## Feedforward Neural Network"
      ]
    },
    {
      "cell_type": "code",
      "execution_count": 38,
      "metadata": {
        "id": "zCWlzhECKo12"
      },
      "outputs": [],
      "source": [
        "import numpy as np\n",
        "\n",
        "\n",
        "class neuron:                                   # We create a class called neuron that takes the parameter of input and weight.\n",
        "  def __init__(self, input, weight):\n",
        "    self.input = []\n",
        "    self.weight = [] \n",
        "    self.add_unit = self.linear_combination()\n",
        "    self.output = self.activation()\n",
        "\n",
        "  def linear_combination(self):                 # The linear_combination function is for computing the sum of weighted inputs.\n",
        "    result = 0\n",
        "    for i in range(len(self.input)):\n",
        "      result += self.input[i] * self.weight[i]\n",
        "    return result\n",
        "\n",
        "  def activation(self):                         # The activation function that I used here is Rectified Linear Unit (ReLU) which will output the input if an input is positive.\n",
        "    output = self.linear_combination()\n",
        "    if output <= 0:\n",
        "      return 0\n",
        "    else:\n",
        "      return output"
      ]
    },
    {
      "cell_type": "code",
      "execution_count": 40,
      "metadata": {},
      "outputs": [],
      "source": [
        "class Node:\n",
        "    def __init__(self, input, weight):\n",
        "        self.input = input\n",
        "        self.weight = weight"
      ]
    },
    {
      "cell_type": "code",
      "execution_count": 41,
      "metadata": {},
      "outputs": [],
      "source": [
        "n1_i = Node(5, 1)\n",
        "n2_i = Node(6, 3)\n",
        "n3_i = Node(7, 5)\n",
        "n4_i = Node(8, 7)\n",
        "n5_i = Node(9, 9)"
      ]
    },
    {
      "cell_type": "code",
      "execution_count": 33,
      "metadata": {
        "colab": {
          "base_uri": "https://localhost:8080/"
        },
        "id": "n90DVUgqSEs2",
        "outputId": "9b84aec7-aea4-452b-e16b-085e195c40cf"
      },
      "outputs": [
        {
          "name": "stdout",
          "output_type": "stream",
          "text": [
            "Add Unit of Neuron 1: -14\n",
            "Activation Function of Neuron 1: 0\n"
          ]
        }
      ],
      "source": [
        "n1 = neuron([-3,-3,-1], [2,2,2])                        # n1 is the first neuron that has an input of [-3, -3, -1] and\n",
        "\n",
        "print(\"Add Unit of Neuron 1:\", n1.add_unit)\n",
        "print(\"Activation Function of Neuron 1:\", n1.output)"
      ]
    },
    {
      "cell_type": "code",
      "execution_count": 34,
      "metadata": {
        "colab": {
          "base_uri": "https://localhost:8080/"
        },
        "id": "K-xadx3wYi6u",
        "outputId": "0a2b22b8-a0a7-460d-cf25-01c075afe8f7"
      },
      "outputs": [
        {
          "name": "stdout",
          "output_type": "stream",
          "text": [
            "Add Unit of Neuron 2: 97\n",
            "Neuron 2: 97\n"
          ]
        }
      ],
      "source": [
        "n2 = neuron([4,5,7,8], [1,2,5,6])\n",
        "print(\"Add Unit of Neuron 2:\", n2.add_unit)\n",
        "print(\"Neuron 2:\", n2.output)"
      ]
    },
    {
      "cell_type": "code",
      "execution_count": 35,
      "metadata": {
        "id": "GHhe7hrJeWl-"
      },
      "outputs": [
        {
          "name": "stdout",
          "output_type": "stream",
          "text": [
            "Add Unit of Neuron 3: 14\n",
            "Activation Function of Neuron 3: 14\n"
          ]
        }
      ],
      "source": [
        "n3 = neuron([5,-1,2,-7], [2,7,9,1])\n",
        "print(\"Add Unit of Neuron 3:\", n3.add_unit)\n",
        "print(\"Activation Function of Neuron 3:\", n3.output)"
      ]
    },
    {
      "cell_type": "code",
      "execution_count": 36,
      "metadata": {},
      "outputs": [],
      "source": [
        "from random import randint"
      ]
    },
    {
      "cell_type": "code",
      "execution_count": 37,
      "metadata": {},
      "outputs": [
        {
          "name": "stdout",
          "output_type": "stream",
          "text": [
            "Add Unit of Final Neuron: 929\n",
            "Activation Function of Final Neuron: 929\n"
          ]
        }
      ],
      "source": [
        "n_final = neuron([n1.output, n2.output, n3.output], [n1_weight, n2_weight, n3_weight])\n",
        "print(\"Add Unit of Final Neuron:\", n_final.add_unit)\n",
        "print(\"Activation Function of Final Neuron:\", n_final.output)"
      ]
    },
    {
      "cell_type": "code",
      "execution_count": null,
      "metadata": {},
      "outputs": [],
      "source": []
    }
  ],
  "metadata": {
    "colab": {
      "provenance": []
    },
    "kernelspec": {
      "display_name": "Python 3 (ipykernel)",
      "language": "python",
      "name": "python3"
    },
    "language_info": {
      "codemirror_mode": {
        "name": "ipython",
        "version": 3
      },
      "file_extension": ".py",
      "mimetype": "text/x-python",
      "name": "python",
      "nbconvert_exporter": "python",
      "pygments_lexer": "ipython3",
      "version": "3.10.13"
    }
  },
  "nbformat": 4,
  "nbformat_minor": 0
}
