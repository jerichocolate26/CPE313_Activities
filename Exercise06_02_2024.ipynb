{
  "cells": [
    {
      "cell_type": "markdown",
      "metadata": {},
      "source": [
        "## Feedforward Neural Network"
      ]
    },
    {
      "cell_type": "code",
      "execution_count": 2,
      "metadata": {
        "id": "zCWlzhECKo12"
      },
      "outputs": [],
      "source": [
        "import numpy as np\n",
        "\n",
        "\n",
        "class neuron:                                   # We create a class called neuron that takes the parameter of input and weight.\n",
        "  def __init__(self, input, weight):\n",
        "    self.input = input\n",
        "    self.weight = weight\n",
        "    self.add_unit = self.linear_combination()\n",
        "    self.relu = self.relu()\n",
        "    self.sigmoid = self.sigmoid()\n",
        "\n",
        "  def linear_combination(self):                 # The linear_combination function is for computing the sum of weighted inputs.\n",
        "    result = np.dot(self.input, self.weight)\n",
        "    return result\n",
        "\n",
        "  def relu(self):                         # The activation function that I used here is Rectified Linear Unit (ReLU) which will output the input if an input is positive.\n",
        "    output = self.linear_combination()\n",
        "    if output <= 0:\n",
        "      return 0\n",
        "    else:\n",
        "      return output\n",
        "\n",
        "  def sigmoid(self):\n",
        "    return 1 / (1 + np.exp(self.linear_combination()))"
      ]
    },
    {
      "cell_type": "code",
      "execution_count": 31,
      "metadata": {},
      "outputs": [
        {
          "name": "stdout",
          "output_type": "stream",
          "text": [
            "n1 input: [1 2 3 5 6 1]\n",
            "n1 weight: [6 2 1 4 7 4]\n"
          ]
        }
      ],
      "source": [
        "n1_input = np.array([1,2,3,5,6,1])\n",
        "n1_weight = np.random.randint(1,11,size=n1_input.shape)\n",
        "print(f\"n1 input: {n1_input}\")\n",
        "print(f\"n1 weight: {n1_weight}\")"
      ]
    },
    {
      "cell_type": "code",
      "execution_count": 32,
      "metadata": {},
      "outputs": [
        {
          "name": "stdout",
          "output_type": "stream",
          "text": [
            "n1 Add unit: 79\n",
            "n1 ReLU: 79\n",
            "n1 Sigmoid: 4.906094730649281e-35\n"
          ]
        }
      ],
      "source": [
        "n1 = neuron(n1_input, n1_weight)\n",
        "print(\"n1 Add unit:\", n1.add_unit)\n",
        "print(\"n1 ReLU:\", n1.relu)\n",
        "print(\"n1 Sigmoid:\", n1.sigmoid)"
      ]
    },
    {
      "cell_type": "code",
      "execution_count": 33,
      "metadata": {},
      "outputs": [
        {
          "name": "stdout",
          "output_type": "stream",
          "text": [
            "n2 input: [ 5  4  1 -6 -1]\n",
            "n2 weight: [ 8 10  2  2  4]\n"
          ]
        }
      ],
      "source": [
        "n2_input = np.array([5,4,1,-6,-1])\n",
        "n2_weight = np.random.randint(1,11,size=n2_input.shape)\n",
        "print(f\"n2 input: {n2_input}\")\n",
        "print(f\"n2 weight: {n2_weight}\")"
      ]
    },
    {
      "cell_type": "code",
      "execution_count": 34,
      "metadata": {},
      "outputs": [
        {
          "name": "stdout",
          "output_type": "stream",
          "text": [
            "n2 Add unit: 66\n",
            "n2 ReLU: 66\n",
            "n2 Sigmoid: 2.1705220113036392e-29\n"
          ]
        }
      ],
      "source": [
        "n2 = neuron(n2_input, n2_weight)\n",
        "print(\"n2 Add unit:\", n2.add_unit)\n",
        "print(\"n2 ReLU:\", n2.relu)\n",
        "print(\"n2 Sigmoid:\", n2.sigmoid)"
      ]
    },
    {
      "cell_type": "code",
      "execution_count": 35,
      "metadata": {},
      "outputs": [
        {
          "name": "stdout",
          "output_type": "stream",
          "text": [
            "n3 input: [-5  1 -7  5 -4]\n",
            "n3 weight: [7 9 9 2 7]\n"
          ]
        }
      ],
      "source": [
        "n3_input = np.array([-5,1,-7,5,-4])\n",
        "n3_weight = np.random.randint(1,11,size=n3_input.shape)\n",
        "print(f\"n3 input: {n3_input}\")\n",
        "print(f\"n3 weight: {n3_weight}\")"
      ]
    },
    {
      "cell_type": "code",
      "execution_count": 36,
      "metadata": {},
      "outputs": [
        {
          "name": "stdout",
          "output_type": "stream",
          "text": [
            "n3 Add unit: -107\n",
            "n3 ReLU: 0\n",
            "n3 Sigmoid: 1.0\n"
          ]
        }
      ],
      "source": [
        "n3 = neuron(n3_input, n3_weight)\n",
        "print(\"n3 Add unit:\", n3.add_unit)\n",
        "print(\"n3 ReLU:\", n3.relu)\n",
        "print(\"n3 Sigmoid:\", n3.sigmoid)"
      ]
    },
    {
      "cell_type": "code",
      "execution_count": 37,
      "metadata": {},
      "outputs": [
        {
          "name": "stdout",
          "output_type": "stream",
          "text": [
            "Final input: [79 66  0]\n",
            "Final weight: [ 8  9 10]\n"
          ]
        }
      ],
      "source": [
        "last_input = np.array([n1.relu, n2.relu, n3.relu])\n",
        "last_weight = np.random.randint(1,11,size=last_input.shape)\n",
        "print(f\"Final input: {last_input}\")\n",
        "print(f\"Final weight: {last_weight}\")"
      ]
    },
    {
      "cell_type": "code",
      "execution_count": 38,
      "metadata": {},
      "outputs": [
        {
          "name": "stdout",
          "output_type": "stream",
          "text": [
            "Final Add unit: 1226\n",
            "Final output: 0.0\n"
          ]
        },
        {
          "name": "stderr",
          "output_type": "stream",
          "text": [
            "/tmp/ipykernel_3945/3638229109.py:24: RuntimeWarning: overflow encountered in exp\n",
            "  return 1 / (1 + np.exp(self.linear_combination()))\n"
          ]
        }
      ],
      "source": [
        "final_neuron = neuron(last_input, last_weight)\n",
        "print(\"Final Add unit:\", final_neuron.add_unit)\n",
        "print(\"Final output:\", final_neuron.sigmoid)"
      ]
    }
  ],
  "metadata": {
    "colab": {
      "provenance": []
    },
    "kernelspec": {
      "display_name": "Python 3 (ipykernel)",
      "language": "python",
      "name": "python3"
    },
    "language_info": {
      "codemirror_mode": {
        "name": "ipython",
        "version": 3
      },
      "file_extension": ".py",
      "mimetype": "text/x-python",
      "name": "python",
      "nbconvert_exporter": "python",
      "pygments_lexer": "ipython3",
      "version": "3.10.13"
    }
  },
  "nbformat": 4,
  "nbformat_minor": 0
}
