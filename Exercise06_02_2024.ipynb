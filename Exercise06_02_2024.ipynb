{
  "nbformat": 4,
  "nbformat_minor": 0,
  "metadata": {
    "colab": {
      "provenance": []
    },
    "kernelspec": {
      "name": "python3",
      "display_name": "Python 3"
    },
    "language_info": {
      "name": "python"
    }
  },
  "cells": [
    {
      "cell_type": "code",
      "execution_count": 56,
      "metadata": {
        "id": "zCWlzhECKo12"
      },
      "outputs": [],
      "source": [
        "import numpy as np\n",
        "class neuron:\n",
        "  def __init__(self, input, weight):\n",
        "    self.input = input\n",
        "    self.weight = weight\n",
        "    self.output = self.activation()\n",
        "\n",
        "  def linear_combination(self):\n",
        "    result = 0\n",
        "    for i in range(len(self.input)):\n",
        "      result += self.input[i] * self.weight[i]\n",
        "    return result\n",
        "\n",
        "  def activation(self):\n",
        "    output = self.linear_combination()\n",
        "    if output <= 0:\n",
        "      return 0\n",
        "    else:\n",
        "      return output"
      ]
    },
    {
      "cell_type": "code",
      "source": [
        "n1 = neuron([-3,-3,-1], [2,2,2])\n",
        "n1.output"
      ],
      "metadata": {
        "colab": {
          "base_uri": "https://localhost:8080/"
        },
        "id": "n90DVUgqSEs2",
        "outputId": "9b84aec7-aea4-452b-e16b-085e195c40cf"
      },
      "execution_count": 60,
      "outputs": [
        {
          "output_type": "execute_result",
          "data": {
            "text/plain": [
              "0"
            ]
          },
          "metadata": {},
          "execution_count": 60
        }
      ]
    },
    {
      "cell_type": "code",
      "source": [
        "n2 = neuron([4,5,7,8], [1,2,5,6])\n",
        "n2.output"
      ],
      "metadata": {
        "colab": {
          "base_uri": "https://localhost:8080/"
        },
        "id": "K-xadx3wYi6u",
        "outputId": "0a2b22b8-a0a7-460d-cf25-01c075afe8f7"
      },
      "execution_count": 61,
      "outputs": [
        {
          "output_type": "execute_result",
          "data": {
            "text/plain": [
              "97"
            ]
          },
          "metadata": {},
          "execution_count": 61
        }
      ]
    },
    {
      "cell_type": "code",
      "source": [],
      "metadata": {
        "id": "GHhe7hrJeWl-"
      },
      "execution_count": null,
      "outputs": []
    }
  ]
}