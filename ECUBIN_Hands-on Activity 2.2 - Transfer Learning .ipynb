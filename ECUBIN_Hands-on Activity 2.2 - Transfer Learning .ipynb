{
 "cells": [
  {
   "cell_type": "markdown",
   "id": "annual-sandwich",
   "metadata": {},
   "source": [
    "# Activity 2.2 - Transfer Learning "
   ]
  },
  {
   "cell_type": "markdown",
   "id": "great-fireplace",
   "metadata": {},
   "source": [
    "#### Objective(s):\n",
    "\n",
    "This activity aims to introduce how to apply transfer learning "
   ]
  },
  {
   "cell_type": "markdown",
   "id": "subjective-elimination",
   "metadata": {},
   "source": [
    "#### Intended Learning Outcomes (ILOs):\n",
    "* Demonstrate how to build and train neural network \n",
    "* Demonstrate how to apply transfer learning in neural network\n"
   ]
  },
  {
   "cell_type": "markdown",
   "id": "simplified-azerbaijan",
   "metadata": {},
   "source": [
    "#### Resources:\n",
    "* Jupyter Notebook\n",
    "* CIFAR-10 dataset"
   ]
  },
  {
   "cell_type": "markdown",
   "id": "ordinary-crime",
   "metadata": {},
   "source": [
    "#### Procedures\n",
    "Load the necessary libraries"
   ]
  },
  {
   "cell_type": "code",
   "execution_count": 1,
   "id": "comic-joining",
   "metadata": {},
   "outputs": [],
   "source": [
    "from __future__ import print_function\n",
    "\n",
    "import datetime\n",
    "import keras\n",
    "from keras.datasets import mnist\n",
    "from keras.models import Sequential\n",
    "from keras.layers import Dense, Dropout, Activation, Flatten\n",
    "from keras.layers import Conv2D, MaxPooling2D\n",
    "from keras import backend as K"
   ]
  },
  {
   "cell_type": "markdown",
   "id": "moral-chair",
   "metadata": {},
   "source": [
    "Set the parameters"
   ]
  },
  {
   "cell_type": "code",
   "execution_count": 2,
   "id": "sticky-metallic",
   "metadata": {},
   "outputs": [],
   "source": [
    "now = datetime.datetime.now\n",
    "batch_size = 128\n",
    "num_classes = 5\n",
    "epochs = 20\n",
    "img_rows, img_cols = 28, 28\n",
    "filters = 32\n",
    "pool_size = 2\n",
    "kernel_size = 3"
   ]
  },
  {
   "cell_type": "markdown",
   "id": "resident-activity",
   "metadata": {},
   "source": [
    "Set how the input data is loaded"
   ]
  },
  {
   "cell_type": "code",
   "execution_count": 3,
   "id": "measured-queens",
   "metadata": {},
   "outputs": [],
   "source": [
    "\n",
    "if K.image_data_format() == 'channels_first':\n",
    "    input_shape = (1, img_rows, img_cols)\n",
    "else:\n",
    "    input_shape = (img_rows, img_cols, 1)"
   ]
  },
  {
   "cell_type": "markdown",
   "id": "jewish-russell",
   "metadata": {},
   "source": [
    "* Write a function to include all the training steps. \n",
    "* Use the model, training set, test set and number of classes as function parameters\n"
   ]
  },
  {
   "cell_type": "code",
   "execution_count": 4,
   "id": "julian-batch",
   "metadata": {},
   "outputs": [],
   "source": [
    "def train_model(model, train, test, num_classes):\n",
    "    x_train = train[0].reshape((train[0].shape[0],) + input_shape)\n",
    "    x_test = test[0].reshape((test[0].shape[0],) + input_shape)\n",
    "    x_train = x_train.astype('float32')\n",
    "    x_test = x_test.astype('float32')\n",
    "    x_train /= 255\n",
    "    x_test /= 255\n",
    "    print('x_train shape:', x_train.shape)\n",
    "    print(x_train.shape[0], 'train samples')\n",
    "    print(x_test.shape[0], 'test samples')\n",
    "\n",
    "    # convert class vectors to binary class matrices\n",
    "    y_train = keras.utils.to_categorical(train[1], num_classes)\n",
    "    y_test = keras.utils.to_categorical(test[1], num_classes)\n",
    "\n",
    "    model.compile(loss='categorical_crossentropy',\n",
    "                  optimizer='adadelta',\n",
    "                  metrics=['accuracy'])\n",
    "\n",
    "    t = now()\n",
    "    model.fit(x_train, y_train,\n",
    "              batch_size=batch_size,\n",
    "              epochs=epochs,\n",
    "              verbose=1,\n",
    "              validation_data=(x_test, y_test))\n",
    "    print('Training time: %s' % (now() - t))\n",
    "\n",
    "    score = model.evaluate(x_test, y_test, verbose=0)\n",
    "    print('Test score:', score[0])\n",
    "    print('Test accuracy:', score[1])"
   ]
  },
  {
   "cell_type": "markdown",
   "id": "monetary-final",
   "metadata": {},
   "source": [
    "Shuffle and split the data between train and test sets"
   ]
  },
  {
   "cell_type": "code",
   "execution_count": 5,
   "id": "hollywood-amendment",
   "metadata": {},
   "outputs": [],
   "source": [
    "\n",
    "(x_train, y_train), (x_test, y_test) = mnist.load_data()\n",
    "\n"
   ]
  },
  {
   "cell_type": "markdown",
   "id": "committed-bench",
   "metadata": {},
   "source": [
    "Create two datasets \n",
    "* one with digits below 5\n",
    "* one with 5 and above"
   ]
  },
  {
   "cell_type": "code",
   "execution_count": 6,
   "id": "lesser-bradley",
   "metadata": {},
   "outputs": [],
   "source": [
    "x_train_lt5 = x_train[y_train < 5]\n",
    "y_train_lt5 = y_train[y_train < 5]\n",
    "x_test_lt5 = x_test[y_test < 5]\n",
    "y_test_lt5 = y_test[y_test < 5]\n",
    "\n",
    "x_train_gte5 = x_train[y_train >= 5]\n",
    "y_train_gte5 = y_train[y_train >= 5] - 5\n",
    "x_test_gte5 = x_test[y_test >= 5]\n",
    "y_test_gte5 = y_test[y_test >= 5] - 5"
   ]
  },
  {
   "cell_type": "markdown",
   "id": "talented-scheme",
   "metadata": {},
   "source": [
    "* Define the feature layers that will used for transfer learning\n",
    "* Freeze these layers during fine-tuning process"
   ]
  },
  {
   "cell_type": "code",
   "execution_count": 7,
   "id": "ranging-neutral",
   "metadata": {},
   "outputs": [],
   "source": [
    "\n",
    "\n",
    "feature_layers = [\n",
    "    Conv2D(filters, kernel_size,\n",
    "           padding='valid',\n",
    "           input_shape=input_shape),\n",
    "    Activation('relu'),\n",
    "    Conv2D(filters, kernel_size),\n",
    "    Activation('relu'),\n",
    "    MaxPooling2D(pool_size=pool_size),\n",
    "    Dropout(0.25),\n",
    "    Flatten(),\n",
    "]"
   ]
  },
  {
   "cell_type": "markdown",
   "id": "bulgarian-accuracy",
   "metadata": {},
   "source": [
    "Define the classification layers"
   ]
  },
  {
   "cell_type": "code",
   "execution_count": 8,
   "id": "religious-timer",
   "metadata": {},
   "outputs": [],
   "source": [
    "\n",
    "\n",
    "classification_layers = [\n",
    "    Dense(128),\n",
    "    Activation('relu'),\n",
    "    Dropout(0.5),\n",
    "    Dense(num_classes),\n",
    "    Activation('softmax')\n",
    "]"
   ]
  },
  {
   "cell_type": "markdown",
   "id": "yellow-puzzle",
   "metadata": {},
   "source": [
    "Create a model by combining the feature layers and classification layers"
   ]
  },
  {
   "cell_type": "code",
   "execution_count": 9,
   "id": "governmental-portable",
   "metadata": {},
   "outputs": [],
   "source": [
    "\n",
    "model = Sequential(feature_layers + classification_layers)"
   ]
  },
  {
   "cell_type": "markdown",
   "id": "noticed-dairy",
   "metadata": {},
   "source": [
    "Check the model summary"
   ]
  },
  {
   "cell_type": "code",
   "execution_count": 10,
   "id": "correct-syria",
   "metadata": {},
   "outputs": [
    {
     "name": "stdout",
     "output_type": "stream",
     "text": [
      "Model: \"sequential\"\n",
      "_________________________________________________________________\n",
      " Layer (type)                Output Shape              Param #   \n",
      "=================================================================\n",
      " conv2d (Conv2D)             (None, 26, 26, 32)        320       \n",
      "                                                                 \n",
      " activation (Activation)     (None, 26, 26, 32)        0         \n",
      "                                                                 \n",
      " conv2d_1 (Conv2D)           (None, 24, 24, 32)        9248      \n",
      "                                                                 \n",
      " activation_1 (Activation)   (None, 24, 24, 32)        0         \n",
      "                                                                 \n",
      " max_pooling2d (MaxPooling2D  (None, 12, 12, 32)       0         \n",
      " )                                                               \n",
      "                                                                 \n",
      " dropout (Dropout)           (None, 12, 12, 32)        0         \n",
      "                                                                 \n",
      " flatten (Flatten)           (None, 4608)              0         \n",
      "                                                                 \n",
      " dense (Dense)               (None, 128)               589952    \n",
      "                                                                 \n",
      " activation_2 (Activation)   (None, 128)               0         \n",
      "                                                                 \n",
      " dropout_1 (Dropout)         (None, 128)               0         \n",
      "                                                                 \n",
      " dense_1 (Dense)             (None, 5)                 645       \n",
      "                                                                 \n",
      " activation_3 (Activation)   (None, 5)                 0         \n",
      "                                                                 \n",
      "=================================================================\n",
      "Total params: 600,165\n",
      "Trainable params: 600,165\n",
      "Non-trainable params: 0\n",
      "_________________________________________________________________\n"
     ]
    }
   ],
   "source": [
    "\n",
    "model.summary()"
   ]
  },
  {
   "cell_type": "markdown",
   "id": "productive-regular",
   "metadata": {},
   "source": [
    " Train the  model on the digits 5,6,7,8,9"
   ]
  },
  {
   "cell_type": "code",
   "execution_count": 11,
   "id": "distinct-ticket",
   "metadata": {},
   "outputs": [
    {
     "name": "stdout",
     "output_type": "stream",
     "text": [
      "x_train shape: (29404, 28, 28, 1)\n",
      "29404 train samples\n",
      "4861 test samples\n",
      "Epoch 1/20\n"
     ]
    },
    {
     "name": "stdout",
     "output_type": "stream",
     "text": [
      "230/230 [==============================] - 6s 13ms/step - loss: 1.6051 - accuracy: 0.2114 - val_loss: 1.5870 - val_accuracy: 0.2897\n",
      "Epoch 2/20\n",
      "230/230 [==============================] - 2s 11ms/step - loss: 1.5835 - accuracy: 0.2746 - val_loss: 1.5632 - val_accuracy: 0.4583\n",
      "Epoch 3/20\n",
      "230/230 [==============================] - 2s 11ms/step - loss: 1.5612 - accuracy: 0.3359 - val_loss: 1.5380 - val_accuracy: 0.5361\n",
      "Epoch 4/20\n",
      "230/230 [==============================] - 2s 11ms/step - loss: 1.5382 - accuracy: 0.3902 - val_loss: 1.5101 - val_accuracy: 0.5647\n",
      "Epoch 5/20\n",
      "230/230 [==============================] - 2s 11ms/step - loss: 1.5125 - accuracy: 0.4436 - val_loss: 1.4782 - val_accuracy: 0.5980\n",
      "Epoch 6/20\n",
      "230/230 [==============================] - 2s 10ms/step - loss: 1.4821 - accuracy: 0.4816 - val_loss: 1.4414 - val_accuracy: 0.6386\n",
      "Epoch 7/20\n",
      "230/230 [==============================] - 2s 10ms/step - loss: 1.4463 - accuracy: 0.5293 - val_loss: 1.3987 - val_accuracy: 0.6750\n",
      "Epoch 8/20\n",
      "230/230 [==============================] - 2s 11ms/step - loss: 1.4060 - accuracy: 0.5655 - val_loss: 1.3497 - val_accuracy: 0.7069\n",
      "Epoch 9/20\n",
      "230/230 [==============================] - 2s 10ms/step - loss: 1.3592 - accuracy: 0.6005 - val_loss: 1.2948 - val_accuracy: 0.7344\n",
      "Epoch 10/20\n",
      "230/230 [==============================] - 2s 10ms/step - loss: 1.3072 - accuracy: 0.6265 - val_loss: 1.2342 - val_accuracy: 0.7556\n",
      "Epoch 11/20\n",
      "230/230 [==============================] - 2s 10ms/step - loss: 1.2512 - accuracy: 0.6521 - val_loss: 1.1692 - val_accuracy: 0.7811\n",
      "Epoch 12/20\n",
      "230/230 [==============================] - 2s 10ms/step - loss: 1.1927 - accuracy: 0.6750 - val_loss: 1.1010 - val_accuracy: 0.7998\n",
      "Epoch 13/20\n",
      "230/230 [==============================] - 2s 10ms/step - loss: 1.1331 - accuracy: 0.6955 - val_loss: 1.0315 - val_accuracy: 0.8173\n",
      "Epoch 14/20\n",
      "230/230 [==============================] - 2s 10ms/step - loss: 1.0696 - accuracy: 0.7107 - val_loss: 0.9620 - val_accuracy: 0.8303\n",
      "Epoch 15/20\n",
      "230/230 [==============================] - 2s 11ms/step - loss: 1.0082 - accuracy: 0.7250 - val_loss: 0.8945 - val_accuracy: 0.8434\n",
      "Epoch 16/20\n",
      "230/230 [==============================] - 2s 11ms/step - loss: 0.9497 - accuracy: 0.7374 - val_loss: 0.8309 - val_accuracy: 0.8519\n",
      "Epoch 17/20\n",
      "230/230 [==============================] - 2s 10ms/step - loss: 0.8962 - accuracy: 0.7483 - val_loss: 0.7720 - val_accuracy: 0.8589\n",
      "Epoch 18/20\n",
      "230/230 [==============================] - 2s 10ms/step - loss: 0.8467 - accuracy: 0.7599 - val_loss: 0.7181 - val_accuracy: 0.8648\n",
      "Epoch 19/20\n",
      "230/230 [==============================] - 2s 10ms/step - loss: 0.8045 - accuracy: 0.7651 - val_loss: 0.6699 - val_accuracy: 0.8679\n",
      "Epoch 20/20\n",
      "230/230 [==============================] - 2s 10ms/step - loss: 0.7620 - accuracy: 0.7768 - val_loss: 0.6268 - val_accuracy: 0.8753\n",
      "Training time: 0:00:52.129573\n",
      "Test score: 0.6267827749252319\n",
      "Test accuracy: 0.8753343224525452\n"
     ]
    }
   ],
   "source": [
    "train_model(model,\n",
    "            (x_train_gte5, y_train_gte5),\n",
    "            (x_test_gte5, y_test_gte5), num_classes)"
   ]
  },
  {
   "cell_type": "markdown",
   "id": "racial-emission",
   "metadata": {},
   "source": [
    "Freeze only the feature layers"
   ]
  },
  {
   "cell_type": "code",
   "execution_count": 12,
   "id": "violent-territory",
   "metadata": {},
   "outputs": [],
   "source": [
    "\n",
    "for l in feature_layers:\n",
    "    l.trainable = False"
   ]
  },
  {
   "cell_type": "markdown",
   "id": "continuous-injection",
   "metadata": {},
   "source": [
    "Check again the summary and observe the parameters from the previous model"
   ]
  },
  {
   "cell_type": "code",
   "execution_count": 13,
   "id": "sunset-manhattan",
   "metadata": {},
   "outputs": [
    {
     "name": "stdout",
     "output_type": "stream",
     "text": [
      "Model: \"sequential\"\n",
      "_________________________________________________________________\n",
      " Layer (type)                Output Shape              Param #   \n",
      "=================================================================\n",
      " conv2d (Conv2D)             (None, 26, 26, 32)        320       \n",
      "                                                                 \n",
      " activation (Activation)     (None, 26, 26, 32)        0         \n",
      "                                                                 \n",
      " conv2d_1 (Conv2D)           (None, 24, 24, 32)        9248      \n",
      "                                                                 \n",
      " activation_1 (Activation)   (None, 24, 24, 32)        0         \n",
      "                                                                 \n",
      " max_pooling2d (MaxPooling2D  (None, 12, 12, 32)       0         \n",
      " )                                                               \n",
      "                                                                 \n",
      " dropout (Dropout)           (None, 12, 12, 32)        0         \n",
      "                                                                 \n",
      " flatten (Flatten)           (None, 4608)              0         \n",
      "                                                                 \n",
      " dense (Dense)               (None, 128)               589952    \n",
      "                                                                 \n",
      " activation_2 (Activation)   (None, 128)               0         \n",
      "                                                                 \n",
      " dropout_1 (Dropout)         (None, 128)               0         \n",
      "                                                                 \n",
      " dense_1 (Dense)             (None, 5)                 645       \n",
      "                                                                 \n",
      " activation_3 (Activation)   (None, 5)                 0         \n",
      "                                                                 \n",
      "=================================================================\n",
      "Total params: 600,165\n",
      "Trainable params: 590,597\n",
      "Non-trainable params: 9,568\n",
      "_________________________________________________________________\n"
     ]
    }
   ],
   "source": [
    "model.summary()"
   ]
  },
  {
   "cell_type": "markdown",
   "id": "modern-carnival",
   "metadata": {},
   "source": [
    "Train again the model using the 0 to 4 digits"
   ]
  },
  {
   "cell_type": "code",
   "execution_count": 14,
   "id": "comprehensive-nurse",
   "metadata": {},
   "outputs": [
    {
     "name": "stdout",
     "output_type": "stream",
     "text": [
      "x_train shape: (30596, 28, 28, 1)\n",
      "30596 train samples\n",
      "5139 test samples\n",
      "Epoch 1/20\n"
     ]
    },
    {
     "name": "stdout",
     "output_type": "stream",
     "text": [
      "240/240 [==============================] - 2s 7ms/step - loss: 1.6710 - accuracy: 0.3730 - val_loss: 1.5124 - val_accuracy: 0.4227\n",
      "Epoch 2/20\n",
      "240/240 [==============================] - 1s 6ms/step - loss: 1.5323 - accuracy: 0.4125 - val_loss: 1.3775 - val_accuracy: 0.4631\n",
      "Epoch 3/20\n",
      "240/240 [==============================] - 1s 6ms/step - loss: 1.4020 - accuracy: 0.4521 - val_loss: 1.2619 - val_accuracy: 0.5052\n",
      "Epoch 4/20\n",
      "240/240 [==============================] - 1s 6ms/step - loss: 1.3032 - accuracy: 0.4911 - val_loss: 1.1606 - val_accuracy: 0.5635\n",
      "Epoch 5/20\n",
      "240/240 [==============================] - 2s 7ms/step - loss: 1.2125 - accuracy: 0.5327 - val_loss: 1.0679 - val_accuracy: 0.6313\n",
      "Epoch 6/20\n",
      "240/240 [==============================] - 1s 6ms/step - loss: 1.1264 - accuracy: 0.5818 - val_loss: 0.9853 - val_accuracy: 0.6871\n",
      "Epoch 7/20\n",
      "240/240 [==============================] - 1s 6ms/step - loss: 1.0480 - accuracy: 0.6281 - val_loss: 0.9105 - val_accuracy: 0.7334\n",
      "Epoch 8/20\n",
      "240/240 [==============================] - 1s 6ms/step - loss: 0.9802 - accuracy: 0.6684 - val_loss: 0.8427 - val_accuracy: 0.7682\n",
      "Epoch 9/20\n",
      "240/240 [==============================] - 1s 6ms/step - loss: 0.9191 - accuracy: 0.7064 - val_loss: 0.7843 - val_accuracy: 0.8004\n",
      "Epoch 10/20\n",
      "240/240 [==============================] - 1s 6ms/step - loss: 0.8667 - accuracy: 0.7335 - val_loss: 0.7307 - val_accuracy: 0.8235\n",
      "Epoch 11/20\n",
      "240/240 [==============================] - 2s 7ms/step - loss: 0.8189 - accuracy: 0.7556 - val_loss: 0.6840 - val_accuracy: 0.8404\n",
      "Epoch 12/20\n",
      "240/240 [==============================] - 1s 6ms/step - loss: 0.7751 - accuracy: 0.7763 - val_loss: 0.6422 - val_accuracy: 0.8552\n",
      "Epoch 13/20\n",
      "240/240 [==============================] - 2s 6ms/step - loss: 0.7339 - accuracy: 0.7956 - val_loss: 0.6049 - val_accuracy: 0.8673\n",
      "Epoch 14/20\n",
      "240/240 [==============================] - 1s 6ms/step - loss: 0.7011 - accuracy: 0.8066 - val_loss: 0.5703 - val_accuracy: 0.8774\n",
      "Epoch 15/20\n",
      "240/240 [==============================] - 1s 6ms/step - loss: 0.6676 - accuracy: 0.8215 - val_loss: 0.5410 - val_accuracy: 0.8858\n",
      "Epoch 16/20\n",
      "240/240 [==============================] - 2s 7ms/step - loss: 0.6383 - accuracy: 0.8301 - val_loss: 0.5143 - val_accuracy: 0.8910\n",
      "Epoch 17/20\n",
      "240/240 [==============================] - 2s 8ms/step - loss: 0.6114 - accuracy: 0.8386 - val_loss: 0.4896 - val_accuracy: 0.8963\n",
      "Epoch 18/20\n",
      "240/240 [==============================] - 2s 9ms/step - loss: 0.5871 - accuracy: 0.8473 - val_loss: 0.4664 - val_accuracy: 0.9004\n",
      "Epoch 19/20\n",
      "240/240 [==============================] - 2s 8ms/step - loss: 0.5697 - accuracy: 0.8518 - val_loss: 0.4452 - val_accuracy: 0.9048\n",
      "Epoch 20/20\n",
      "240/240 [==============================] - 2s 8ms/step - loss: 0.5460 - accuracy: 0.8573 - val_loss: 0.4261 - val_accuracy: 0.9103\n",
      "Training time: 0:00:32.893807\n",
      "Test score: 0.42606690526008606\n",
      "Test accuracy: 0.9102938175201416\n"
     ]
    }
   ],
   "source": [
    "train_model(model,\n",
    "            (x_train_lt5, y_train_lt5),\n",
    "            (x_test_lt5, y_test_lt5), num_classes)"
   ]
  },
  {
   "cell_type": "markdown",
   "id": "numerical-integer",
   "metadata": {},
   "source": [
    "#### Supplementary Activity\n",
    "Now write code to reverse this training process. That is, you will train on the digits 0-4, and then finetune only the last layers on the digits 5-9."
   ]
  },
  {
   "cell_type": "code",
   "execution_count": 15,
   "id": "registered-venice",
   "metadata": {},
   "outputs": [],
   "source": [
    "feature_layers_2 = [\n",
    "    Conv2D(filters, kernel_size,\n",
    "           padding='valid',\n",
    "           input_shape=input_shape),\n",
    "    Activation('relu'),\n",
    "    Conv2D(filters, kernel_size),\n",
    "    Activation('relu'),\n",
    "    MaxPooling2D(pool_size=pool_size),\n",
    "    Dropout(0.25),\n",
    "    Flatten(),\n",
    "]\n",
    "\n",
    "classification_layers_2 = [\n",
    "    Dense(128),\n",
    "    Activation('relu'),\n",
    "    Dropout(0.5),\n",
    "    Dense(num_classes),\n",
    "    Activation('softmax')\n",
    "]\n",
    "\n",
    "model2 = Sequential(feature_layers_2 + classification_layers_2)"
   ]
  },
  {
   "cell_type": "code",
   "execution_count": 16,
   "id": "002738d6",
   "metadata": {},
   "outputs": [
    {
     "name": "stdout",
     "output_type": "stream",
     "text": [
      "Model: \"sequential_1\"\n",
      "_________________________________________________________________\n",
      " Layer (type)                Output Shape              Param #   \n",
      "=================================================================\n",
      " conv2d_2 (Conv2D)           (None, 26, 26, 32)        320       \n",
      "                                                                 \n",
      " activation_4 (Activation)   (None, 26, 26, 32)        0         \n",
      "                                                                 \n",
      " conv2d_3 (Conv2D)           (None, 24, 24, 32)        9248      \n",
      "                                                                 \n",
      " activation_5 (Activation)   (None, 24, 24, 32)        0         \n",
      "                                                                 \n",
      " max_pooling2d_1 (MaxPooling  (None, 12, 12, 32)       0         \n",
      " 2D)                                                             \n",
      "                                                                 \n",
      " dropout_2 (Dropout)         (None, 12, 12, 32)        0         \n",
      "                                                                 \n",
      " flatten_1 (Flatten)         (None, 4608)              0         \n",
      "                                                                 \n",
      " dense_2 (Dense)             (None, 128)               589952    \n",
      "                                                                 \n",
      " activation_6 (Activation)   (None, 128)               0         \n",
      "                                                                 \n",
      " dropout_3 (Dropout)         (None, 128)               0         \n",
      "                                                                 \n",
      " dense_3 (Dense)             (None, 5)                 645       \n",
      "                                                                 \n",
      " activation_7 (Activation)   (None, 5)                 0         \n",
      "                                                                 \n",
      "=================================================================\n",
      "Total params: 600,165\n",
      "Trainable params: 600,165\n",
      "Non-trainable params: 0\n",
      "_________________________________________________________________\n"
     ]
    }
   ],
   "source": [
    "model2.summary()"
   ]
  },
  {
   "cell_type": "code",
   "execution_count": 17,
   "id": "2f29aaee",
   "metadata": {},
   "outputs": [
    {
     "name": "stdout",
     "output_type": "stream",
     "text": [
      "x_train shape: (30596, 28, 28, 1)\n",
      "30596 train samples\n",
      "5139 test samples\n",
      "Epoch 1/20\n",
      "240/240 [==============================] - 4s 13ms/step - loss: 1.6055 - accuracy: 0.2245 - val_loss: 1.5869 - val_accuracy: 0.3744\n",
      "Epoch 2/20\n",
      "240/240 [==============================] - 3s 12ms/step - loss: 1.5807 - accuracy: 0.2994 - val_loss: 1.5594 - val_accuracy: 0.5431\n",
      "Epoch 3/20\n",
      "240/240 [==============================] - 3s 12ms/step - loss: 1.5549 - accuracy: 0.3801 - val_loss: 1.5287 - val_accuracy: 0.6602\n",
      "Epoch 4/20\n",
      "240/240 [==============================] - 3s 11ms/step - loss: 1.5238 - accuracy: 0.4651 - val_loss: 1.4927 - val_accuracy: 0.7357\n",
      "Epoch 5/20\n",
      "240/240 [==============================] - 3s 13ms/step - loss: 1.4882 - accuracy: 0.5337 - val_loss: 1.4495 - val_accuracy: 0.7953\n",
      "Epoch 6/20\n",
      "240/240 [==============================] - 3s 12ms/step - loss: 1.4448 - accuracy: 0.5986 - val_loss: 1.3970 - val_accuracy: 0.8416\n",
      "Epoch 7/20\n",
      "240/240 [==============================] - 3s 11ms/step - loss: 1.3931 - accuracy: 0.6552 - val_loss: 1.3340 - val_accuracy: 0.8690\n",
      "Epoch 8/20\n",
      "240/240 [==============================] - 3s 11ms/step - loss: 1.3306 - accuracy: 0.6980 - val_loss: 1.2589 - val_accuracy: 0.8877\n",
      "Epoch 9/20\n",
      "240/240 [==============================] - 3s 11ms/step - loss: 1.2544 - accuracy: 0.7432 - val_loss: 1.1689 - val_accuracy: 0.9048\n",
      "Epoch 10/20\n",
      "240/240 [==============================] - 2s 10ms/step - loss: 1.1730 - accuracy: 0.7701 - val_loss: 1.0680 - val_accuracy: 0.9155\n",
      "Epoch 11/20\n",
      "240/240 [==============================] - 3s 11ms/step - loss: 1.0763 - accuracy: 0.7961 - val_loss: 0.9584 - val_accuracy: 0.9243\n",
      "Epoch 12/20\n",
      "240/240 [==============================] - 2s 10ms/step - loss: 0.9787 - accuracy: 0.8121 - val_loss: 0.8461 - val_accuracy: 0.9286\n",
      "Epoch 13/20\n",
      "240/240 [==============================] - 3s 11ms/step - loss: 0.8792 - accuracy: 0.8327 - val_loss: 0.7379 - val_accuracy: 0.9303\n",
      "Epoch 14/20\n",
      "240/240 [==============================] - 3s 10ms/step - loss: 0.7909 - accuracy: 0.8427 - val_loss: 0.6416 - val_accuracy: 0.9336\n",
      "Epoch 15/20\n",
      "240/240 [==============================] - 2s 10ms/step - loss: 0.7104 - accuracy: 0.8527 - val_loss: 0.5576 - val_accuracy: 0.9362\n",
      "Epoch 16/20\n",
      "240/240 [==============================] - 3s 10ms/step - loss: 0.6397 - accuracy: 0.8599 - val_loss: 0.4882 - val_accuracy: 0.9373\n",
      "Epoch 17/20\n",
      "240/240 [==============================] - 2s 10ms/step - loss: 0.5816 - accuracy: 0.8674 - val_loss: 0.4303 - val_accuracy: 0.9401\n",
      "Epoch 18/20\n",
      "240/240 [==============================] - 2s 10ms/step - loss: 0.5317 - accuracy: 0.8698 - val_loss: 0.3831 - val_accuracy: 0.9426\n",
      "Epoch 19/20\n",
      "240/240 [==============================] - 3s 10ms/step - loss: 0.4874 - accuracy: 0.8794 - val_loss: 0.3446 - val_accuracy: 0.9436\n",
      "Epoch 20/20\n",
      "240/240 [==============================] - 2s 10ms/step - loss: 0.4588 - accuracy: 0.8821 - val_loss: 0.3142 - val_accuracy: 0.9449\n",
      "Training time: 0:00:53.436028\n",
      "Test score: 0.31423455476760864\n",
      "Test accuracy: 0.944930911064148\n"
     ]
    }
   ],
   "source": [
    "train_model(model2,\n",
    "            (x_train_lt5, y_train_lt5),\n",
    "            (x_test_lt5, y_test_lt5), num_classes)"
   ]
  },
  {
   "cell_type": "code",
   "execution_count": 18,
   "id": "9dadfa24",
   "metadata": {},
   "outputs": [],
   "source": [
    "for l in feature_layers_2:\n",
    "    l.trainable = False"
   ]
  },
  {
   "cell_type": "code",
   "execution_count": 19,
   "id": "28ea8e7f",
   "metadata": {},
   "outputs": [
    {
     "name": "stdout",
     "output_type": "stream",
     "text": [
      "Model: \"sequential_1\"\n",
      "_________________________________________________________________\n",
      " Layer (type)                Output Shape              Param #   \n",
      "=================================================================\n",
      " conv2d_2 (Conv2D)           (None, 26, 26, 32)        320       \n",
      "                                                                 \n",
      " activation_4 (Activation)   (None, 26, 26, 32)        0         \n",
      "                                                                 \n",
      " conv2d_3 (Conv2D)           (None, 24, 24, 32)        9248      \n",
      "                                                                 \n",
      " activation_5 (Activation)   (None, 24, 24, 32)        0         \n",
      "                                                                 \n",
      " max_pooling2d_1 (MaxPooling  (None, 12, 12, 32)       0         \n",
      " 2D)                                                             \n",
      "                                                                 \n",
      " dropout_2 (Dropout)         (None, 12, 12, 32)        0         \n",
      "                                                                 \n",
      " flatten_1 (Flatten)         (None, 4608)              0         \n",
      "                                                                 \n",
      " dense_2 (Dense)             (None, 128)               589952    \n",
      "                                                                 \n",
      " activation_6 (Activation)   (None, 128)               0         \n",
      "                                                                 \n",
      " dropout_3 (Dropout)         (None, 128)               0         \n",
      "                                                                 \n",
      " dense_3 (Dense)             (None, 5)                 645       \n",
      "                                                                 \n",
      " activation_7 (Activation)   (None, 5)                 0         \n",
      "                                                                 \n",
      "=================================================================\n",
      "Total params: 600,165\n",
      "Trainable params: 590,597\n",
      "Non-trainable params: 9,568\n",
      "_________________________________________________________________\n"
     ]
    }
   ],
   "source": [
    "model2.summary()"
   ]
  },
  {
   "cell_type": "code",
   "execution_count": 20,
   "id": "291232ba",
   "metadata": {},
   "outputs": [
    {
     "name": "stdout",
     "output_type": "stream",
     "text": [
      "x_train shape: (29404, 28, 28, 1)\n",
      "29404 train samples\n",
      "4861 test samples\n",
      "Epoch 1/20\n"
     ]
    },
    {
     "name": "stdout",
     "output_type": "stream",
     "text": [
      "230/230 [==============================] - 2s 6ms/step - loss: 1.9151 - accuracy: 0.3231 - val_loss: 1.7041 - val_accuracy: 0.3742\n",
      "Epoch 2/20\n",
      "230/230 [==============================] - 1s 6ms/step - loss: 1.7384 - accuracy: 0.3474 - val_loss: 1.5365 - val_accuracy: 0.4014\n",
      "Epoch 3/20\n",
      "230/230 [==============================] - 2s 7ms/step - loss: 1.5852 - accuracy: 0.3809 - val_loss: 1.3923 - val_accuracy: 0.4409\n",
      "Epoch 4/20\n",
      "230/230 [==============================] - 2s 7ms/step - loss: 1.4525 - accuracy: 0.4207 - val_loss: 1.2658 - val_accuracy: 0.5007\n",
      "Epoch 5/20\n",
      "230/230 [==============================] - 2s 8ms/step - loss: 1.3386 - accuracy: 0.4641 - val_loss: 1.1566 - val_accuracy: 0.5703\n",
      "Epoch 6/20\n",
      "230/230 [==============================] - 2s 7ms/step - loss: 1.2364 - accuracy: 0.5149 - val_loss: 1.0623 - val_accuracy: 0.6314\n",
      "Epoch 7/20\n",
      "230/230 [==============================] - 2s 7ms/step - loss: 1.1572 - accuracy: 0.5601 - val_loss: 0.9826 - val_accuracy: 0.6776\n",
      "Epoch 8/20\n",
      "230/230 [==============================] - 2s 7ms/step - loss: 1.0823 - accuracy: 0.6002 - val_loss: 0.9148 - val_accuracy: 0.7169\n",
      "Epoch 9/20\n",
      "230/230 [==============================] - 2s 7ms/step - loss: 1.0215 - accuracy: 0.6321 - val_loss: 0.8566 - val_accuracy: 0.7431\n",
      "Epoch 10/20\n",
      "230/230 [==============================] - 2s 8ms/step - loss: 0.9638 - accuracy: 0.6644 - val_loss: 0.8066 - val_accuracy: 0.7632\n",
      "Epoch 11/20\n",
      "230/230 [==============================] - 2s 7ms/step - loss: 0.9136 - accuracy: 0.6895 - val_loss: 0.7630 - val_accuracy: 0.7838\n",
      "Epoch 12/20\n",
      "230/230 [==============================] - 2s 7ms/step - loss: 0.8709 - accuracy: 0.7153 - val_loss: 0.7249 - val_accuracy: 0.7953\n",
      "Epoch 13/20\n",
      "230/230 [==============================] - 1s 6ms/step - loss: 0.8376 - accuracy: 0.7272 - val_loss: 0.6914 - val_accuracy: 0.8070\n",
      "Epoch 14/20\n",
      "230/230 [==============================] - 2s 7ms/step - loss: 0.8083 - accuracy: 0.7404 - val_loss: 0.6615 - val_accuracy: 0.8167\n",
      "Epoch 15/20\n",
      "230/230 [==============================] - 1s 6ms/step - loss: 0.7798 - accuracy: 0.7521 - val_loss: 0.6350 - val_accuracy: 0.8253\n",
      "Epoch 16/20\n",
      "230/230 [==============================] - 2s 7ms/step - loss: 0.7508 - accuracy: 0.7654 - val_loss: 0.6114 - val_accuracy: 0.8313\n",
      "Epoch 17/20\n",
      "230/230 [==============================] - 1s 6ms/step - loss: 0.7272 - accuracy: 0.7713 - val_loss: 0.5900 - val_accuracy: 0.8381\n",
      "Epoch 18/20\n",
      "230/230 [==============================] - 1s 6ms/step - loss: 0.7052 - accuracy: 0.7792 - val_loss: 0.5704 - val_accuracy: 0.8447\n",
      "Epoch 19/20\n",
      "230/230 [==============================] - 1s 6ms/step - loss: 0.6866 - accuracy: 0.7863 - val_loss: 0.5528 - val_accuracy: 0.8504\n",
      "Epoch 20/20\n",
      "230/230 [==============================] - 2s 7ms/step - loss: 0.6658 - accuracy: 0.7925 - val_loss: 0.5366 - val_accuracy: 0.8548\n",
      "Training time: 0:00:31.446039\n",
      "Test score: 0.5365587472915649\n",
      "Test accuracy: 0.8547623753547668\n"
     ]
    }
   ],
   "source": [
    "train_model(model2,\n",
    "            (x_train_gte5, y_train_gte5),\n",
    "            (x_test_gte5, y_test_gte5), num_classes)"
   ]
  },
  {
   "cell_type": "markdown",
   "id": "cardiovascular-sapphire",
   "metadata": {},
   "source": [
    "#### Conclusion"
   ]
  },
  {
   "cell_type": "markdown",
   "id": "conditional-prerequisite",
   "metadata": {},
   "source": [
    "#type your answer here\n",
    "\n",
    "In this activity, I learned about the concept of transfer learning in neural networks. Transfer learning is a technique used in neural networks where it reuses the knowledge gained from a previously trained model on a new model. This technique is useful because it can reduce training time and improved the performance of the next model to be trained."
   ]
  },
  {
   "cell_type": "markdown",
   "id": "24ed72c4",
   "metadata": {},
   "source": []
  }
 ],
 "metadata": {
  "kernelspec": {
   "display_name": "Python 3",
   "language": "python",
   "name": "python3"
  },
  "language_info": {
   "codemirror_mode": {
    "name": "ipython",
    "version": 3
   },
   "file_extension": ".py",
   "mimetype": "text/x-python",
   "name": "python",
   "nbconvert_exporter": "python",
   "pygments_lexer": "ipython3",
   "version": "3.9.18"
  }
 },
 "nbformat": 4,
 "nbformat_minor": 5
}
