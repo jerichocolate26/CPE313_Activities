{
 "cells": [
  {
   "cell_type": "markdown",
   "id": "historic-trainer",
   "metadata": {},
   "source": [
    "# Activity 2.1 : Convolutional Neural Network"
   ]
  },
  {
   "cell_type": "markdown",
   "id": "olive-manner",
   "metadata": {},
   "source": [
    "#### Objective(s):\n",
    "\n",
    "This activity aims to introduce how to build a convolutional neural network"
   ]
  },
  {
   "cell_type": "markdown",
   "id": "happy-transport",
   "metadata": {},
   "source": [
    "#### Intended Learning Outcomes (ILOs):\n",
    "* Demonstrate how to build and train convolutional neural network \n",
    "* Evaluate the accuracy and loss of the model using convolutional neural network"
   ]
  },
  {
   "cell_type": "markdown",
   "id": "leading-providence",
   "metadata": {},
   "source": [
    "#### Resources:\n",
    "* Jupyter Notebook\n",
    "* CIFAR-10 dataset"
   ]
  },
  {
   "cell_type": "markdown",
   "id": "literary-trail",
   "metadata": {},
   "source": [
    "#### Procedures\n",
    "Load the necessary libraries"
   ]
  },
  {
   "cell_type": "code",
   "execution_count": 2,
   "id": "stretch-active",
   "metadata": {},
   "outputs": [],
   "source": [
    "from __future__ import print_function\n",
    "import keras\n",
    "from keras.datasets import cifar10\n",
    "from keras.preprocessing.image import ImageDataGenerator\n",
    "from keras.models import Sequential\n",
    "from keras.layers import Dense, Dropout, Activation, Flatten, BatchNormalization\n",
    "from keras.layers import Conv2D, MaxPooling2D\n",
    "\n",
    "import matplotlib.pyplot as plt\n",
    "%matplotlib inline"
   ]
  },
  {
   "cell_type": "markdown",
   "id": "collaborative-seating",
   "metadata": {},
   "source": [
    "* Shuffle the data\n",
    "* Split the data into train and test sets"
   ]
  },
  {
   "cell_type": "code",
   "execution_count": 3,
   "id": "modular-springer",
   "metadata": {},
   "outputs": [
    {
     "name": "stdout",
     "output_type": "stream",
     "text": [
      "x_train shape: (50000, 32, 32, 3)\n",
      "50000 train samples\n",
      "10000 test samples\n"
     ]
    }
   ],
   "source": [
    "\n",
    "(x_train, y_train), (x_test, y_test) = cifar10.load_data()\n",
    "print('x_train shape:', x_train.shape)\n",
    "print(x_train.shape[0], 'train samples')\n",
    "print(x_test.shape[0], 'test samples')"
   ]
  },
  {
   "cell_type": "markdown",
   "id": "female-carolina",
   "metadata": {},
   "source": [
    "Check the image size"
   ]
  },
  {
   "cell_type": "code",
   "execution_count": 4,
   "id": "alleged-stephen",
   "metadata": {},
   "outputs": [
    {
     "data": {
      "text/plain": [
       "(32, 32, 3)"
      ]
     },
     "execution_count": 4,
     "metadata": {},
     "output_type": "execute_result"
    }
   ],
   "source": [
    "\n",
    "x_train[444].shape"
   ]
  },
  {
   "cell_type": "markdown",
   "id": "conscious-twenty",
   "metadata": {},
   "source": [
    "Visualize one of the images"
   ]
  },
  {
   "cell_type": "code",
   "execution_count": 5,
   "id": "positive-creation",
   "metadata": {},
   "outputs": [
    {
     "name": "stdout",
     "output_type": "stream",
     "text": [
      "[9]\n"
     ]
    },
    {
     "data": {
      "image/png": "[encoded data removed]",
      "text/plain": [
       "<Figure size 640x480 with 1 Axes>"
      ]
     },
     "metadata": {},
     "output_type": "display_data"
    }
   ],
   "source": [
    "print(y_train[444])\n",
    "plt.imshow(x_train[444]);"
   ]
  },
  {
   "cell_type": "code",
   "execution_count": 6,
   "id": "animated-rotation",
   "metadata": {},
   "outputs": [],
   "source": [
    "num_classes = 10\n",
    "\n",
    "y_train = keras.utils.to_categorical(y_train, num_classes)\n",
    "y_test = keras.utils.to_categorical(y_test, num_classes)"
   ]
  },
  {
   "cell_type": "markdown",
   "id": "severe-filing",
   "metadata": {},
   "source": [
    "Instead of classes described by an integer between 0-9 we have a vector with a 1 in the (Pythonic) 9th position"
   ]
  },
  {
   "cell_type": "code",
   "execution_count": 7,
   "id": "genetic-centre",
   "metadata": {},
   "outputs": [
    {
     "data": {
      "text/plain": [
       "array([0., 0., 0., 0., 0., 0., 0., 0., 0., 1.], dtype=float32)"
      ]
     },
     "execution_count": 7,
     "metadata": {},
     "output_type": "execute_result"
    }
   ],
   "source": [
    "y_train[444]"
   ]
  },
  {
   "cell_type": "markdown",
   "id": "detected-education",
   "metadata": {},
   "source": [
    "Convert to float and scale the datasets"
   ]
  },
  {
   "cell_type": "code",
   "execution_count": 8,
   "id": "familiar-damages",
   "metadata": {},
   "outputs": [],
   "source": [
    "x_train = x_train.astype('float32')\n",
    "x_test = x_test.astype('float32')\n",
    "x_train /= 255\n",
    "x_test /= 255"
   ]
  },
  {
   "cell_type": "markdown",
   "id": "bizarre-smith",
   "metadata": {},
   "source": [
    "Build a CNN using Keras Sequential"
   ]
  },
  {
   "cell_type": "code",
   "execution_count": 9,
   "id": "understanding-milan",
   "metadata": {},
   "outputs": [
    {
     "name": "stdout",
     "output_type": "stream",
     "text": [
      "Model: \"sequential\"\n",
      "_________________________________________________________________\n",
      " Layer (type)                Output Shape              Param #   \n",
      "=================================================================\n",
      " conv2d (Conv2D)             (None, 16, 16, 32)        2432      \n",
      "                                                                 \n",
      " activation (Activation)     (None, 16, 16, 32)        0         \n",
      "                                                                 \n",
      " conv2d_1 (Conv2D)           (None, 6, 6, 32)          25632     \n",
      "                                                                 \n",
      " activation_1 (Activation)   (None, 6, 6, 32)          0         \n",
      "                                                                 \n",
      " max_pooling2d (MaxPooling2D  (None, 3, 3, 32)         0         \n",
      " )                                                               \n",
      "                                                                 \n",
      " dropout (Dropout)           (None, 3, 3, 32)          0         \n",
      "                                                                 \n",
      " flatten (Flatten)           (None, 288)               0         \n",
      "                                                                 \n",
      " dense (Dense)               (None, 512)               147968    \n",
      "                                                                 \n",
      " activation_2 (Activation)   (None, 512)               0         \n",
      "                                                                 \n",
      " dropout_1 (Dropout)         (None, 512)               0         \n",
      "                                                                 \n",
      " dense_1 (Dense)             (None, 10)                5130      \n",
      "                                                                 \n",
      " activation_3 (Activation)   (None, 10)                0         \n",
      "                                                                 \n",
      "=================================================================\n",
      "Total params: 181,162\n",
      "Trainable params: 181,162\n",
      "Non-trainable params: 0\n",
      "_________________________________________________________________\n"
     ]
    }
   ],
   "source": [
    "\n",
    "model_1 = Sequential()\n",
    "\n",
    "\n",
    "## 5x5 convolution with 2x2 stride and 32 filters\n",
    "model_1.add(Conv2D(32, (5, 5), strides = (2,2), padding='same',\n",
    "                 input_shape=x_train.shape[1:]))\n",
    "model_1.add(Activation('relu'))\n",
    "\n",
    "## Another 5x5 convolution with 2x2 stride and 32 filters\n",
    "model_1.add(Conv2D(32, (5, 5), strides = (2,2)))\n",
    "model_1.add(Activation('relu'))\n",
    "\n",
    "## 2x2 max pooling reduces to 3 x 3 x 32\n",
    "model_1.add(MaxPooling2D(pool_size=(2, 2)))\n",
    "model_1.add(Dropout(0.25))\n",
    "\n",
    "## Flatten turns 3x3x32 into 288x1\n",
    "model_1.add(Flatten())\n",
    "model_1.add(Dense(512))\n",
    "model_1.add(Activation('relu'))\n",
    "model_1.add(Dropout(0.5))\n",
    "model_1.add(Dense(num_classes))\n",
    "model_1.add(Activation('softmax'))\n",
    "\n",
    "model_1.summary()"
   ]
  },
  {
   "cell_type": "markdown",
   "id": "baking-portable",
   "metadata": {},
   "source": [
    "* Use batch size of 32\n",
    "* Initiate RMSprop optimizer\n",
    "* Train the model using RMSprop"
   ]
  },
  {
   "cell_type": "code",
   "execution_count": 10,
   "id": "removed-memorial",
   "metadata": {},
   "outputs": [
    {
     "name": "stderr",
     "output_type": "stream",
     "text": [
      "c:\\Users\\ADMIN\\anaconda3\\envs\\gpuenv\\lib\\site-packages\\keras\\optimizers\\optimizer_v2\\rmsprop.py:140: UserWarning: The `lr` argument is deprecated, use `learning_rate` instead.\n",
      "  super().__init__(name, **kwargs)\n"
     ]
    },
    {
     "name": "stdout",
     "output_type": "stream",
     "text": [
      "Epoch 1/15\n",
      "1563/1563 [==============================] - 16s 7ms/step - loss: 1.7521 - accuracy: 0.3582 - val_loss: 1.4544 - val_accuracy: 0.4700\n",
      "Epoch 2/15\n",
      "1563/1563 [==============================] - 12s 8ms/step - loss: 1.4562 - accuracy: 0.4757 - val_loss: 1.4077 - val_accuracy: 0.5005\n",
      "Epoch 3/15\n",
      "1563/1563 [==============================] - 11s 7ms/step - loss: 1.3454 - accuracy: 0.5209 - val_loss: 1.1930 - val_accuracy: 0.5746\n",
      "Epoch 4/15\n",
      "1563/1563 [==============================] - 11s 7ms/step - loss: 1.2796 - accuracy: 0.5455 - val_loss: 1.2461 - val_accuracy: 0.5607\n",
      "Epoch 5/15\n",
      "1563/1563 [==============================] - 11s 7ms/step - loss: 1.2376 - accuracy: 0.5650 - val_loss: 1.1654 - val_accuracy: 0.5930\n",
      "Epoch 6/15\n",
      "1563/1563 [==============================] - 11s 7ms/step - loss: 1.2057 - accuracy: 0.5741 - val_loss: 1.1540 - val_accuracy: 0.5890\n",
      "Epoch 7/15\n",
      "1563/1563 [==============================] - 11s 7ms/step - loss: 1.1782 - accuracy: 0.5859 - val_loss: 1.1990 - val_accuracy: 0.5857\n",
      "Epoch 8/15\n",
      "1563/1563 [==============================] - 10s 7ms/step - loss: 1.1615 - accuracy: 0.5948 - val_loss: 1.1810 - val_accuracy: 0.5920\n",
      "Epoch 9/15\n",
      "1563/1563 [==============================] - 10s 7ms/step - loss: 1.1483 - accuracy: 0.6006 - val_loss: 1.1229 - val_accuracy: 0.6134\n",
      "Epoch 10/15\n",
      "1563/1563 [==============================] - 11s 7ms/step - loss: 1.1389 - accuracy: 0.6054 - val_loss: 1.0865 - val_accuracy: 0.6188\n",
      "Epoch 11/15\n",
      "1563/1563 [==============================] - 10s 7ms/step - loss: 1.1321 - accuracy: 0.6082 - val_loss: 1.0673 - val_accuracy: 0.6282\n",
      "Epoch 12/15\n",
      "1563/1563 [==============================] - 10s 7ms/step - loss: 1.1215 - accuracy: 0.6138 - val_loss: 1.1366 - val_accuracy: 0.6085\n",
      "Epoch 13/15\n",
      "1563/1563 [==============================] - 10s 7ms/step - loss: 1.1140 - accuracy: 0.6170 - val_loss: 1.0675 - val_accuracy: 0.6308\n",
      "Epoch 14/15\n",
      "1563/1563 [==============================] - 10s 7ms/step - loss: 1.1119 - accuracy: 0.6170 - val_loss: 1.1208 - val_accuracy: 0.6178\n",
      "Epoch 15/15\n",
      "1563/1563 [==============================] - 10s 7ms/step - loss: 1.1117 - accuracy: 0.6213 - val_loss: 1.0916 - val_accuracy: 0.6213\n"
     ]
    },
    {
     "data": {
      "text/plain": [
       "<keras.callbacks.History at 0x2100a4d7910>"
      ]
     },
     "execution_count": 10,
     "metadata": {},
     "output_type": "execute_result"
    }
   ],
   "source": [
    "batch_size = 32\n",
    "\n",
    "opt = keras.optimizers.RMSprop(lr=0.0005)\n",
    "\n",
    "\n",
    "model_1.compile(loss='categorical_crossentropy',\n",
    "              optimizer=opt,\n",
    "              metrics=['accuracy'])\n",
    "\n",
    "model_1.fit(x_train, y_train,\n",
    "              batch_size=batch_size,\n",
    "              epochs=15,\n",
    "              validation_data=(x_test, y_test))"
   ]
  },
  {
   "cell_type": "markdown",
   "id": "jewish-lambda",
   "metadata": {},
   "source": [
    "#### Supplementary Activity"
   ]
  },
  {
   "cell_type": "markdown",
   "id": "southeast-theater",
   "metadata": {},
   "source": [
    "* Build a more complicated model with the following pattern:\n",
    "Conv -> Conv -> MaxPool -> Conv -> Conv -> MaxPool -> (Flatten) -> Dense -> Final Classification\n",
    "\n",
    "* Use strides of 1 for all convolutional layers.\n",
    "\n",
    "* Write the number of parameters of your model  and compare it to the previous model\n",
    "\n",
    "* Train it for 5 epochs. Commpare the training time, loss and accuracy numbers (on both the training and validation sets)?\n",
    "\n",
    "* Use different structures and run times, and see how accurate your model can be."
   ]
  },
  {
   "cell_type": "code",
   "execution_count": 11,
   "id": "be5e40e4",
   "metadata": {},
   "outputs": [
    {
     "name": "stdout",
     "output_type": "stream",
     "text": [
      "Model: \"sequential_1\"\n",
      "_________________________________________________________________\n",
      " Layer (type)                Output Shape              Param #   \n",
      "=================================================================\n",
      " conv2d_2 (Conv2D)           (None, 32, 32, 32)        2432      \n",
      "                                                                 \n",
      " activation_4 (Activation)   (None, 32, 32, 32)        0         \n",
      "                                                                 \n",
      " conv2d_3 (Conv2D)           (None, 28, 28, 32)        25632     \n",
      "                                                                 \n",
      " activation_5 (Activation)   (None, 28, 28, 32)        0         \n",
      "                                                                 \n",
      " max_pooling2d_1 (MaxPooling  (None, 14, 14, 32)       0         \n",
      " 2D)                                                             \n",
      "                                                                 \n",
      " dropout_2 (Dropout)         (None, 14, 14, 32)        0         \n",
      "                                                                 \n",
      " conv2d_4 (Conv2D)           (None, 10, 10, 32)        25632     \n",
      "                                                                 \n",
      " activation_6 (Activation)   (None, 10, 10, 32)        0         \n",
      "                                                                 \n",
      " conv2d_5 (Conv2D)           (None, 6, 6, 32)          25632     \n",
      "                                                                 \n",
      " activation_7 (Activation)   (None, 6, 6, 32)          0         \n",
      "                                                                 \n",
      " max_pooling2d_2 (MaxPooling  (None, 3, 3, 32)         0         \n",
      " 2D)                                                             \n",
      "                                                                 \n",
      " dropout_3 (Dropout)         (None, 3, 3, 32)          0         \n",
      "                                                                 \n",
      " flatten_1 (Flatten)         (None, 288)               0         \n",
      "                                                                 \n",
      " dense_2 (Dense)             (None, 512)               147968    \n",
      "                                                                 \n",
      " activation_8 (Activation)   (None, 512)               0         \n",
      "                                                                 \n",
      " dropout_4 (Dropout)         (None, 512)               0         \n",
      "                                                                 \n",
      " dense_3 (Dense)             (None, 10)                5130      \n",
      "                                                                 \n",
      " activation_9 (Activation)   (None, 10)                0         \n",
      "                                                                 \n",
      "=================================================================\n",
      "Total params: 232,426\n",
      "Trainable params: 232,426\n",
      "Non-trainable params: 0\n",
      "_________________________________________________________________\n"
     ]
    }
   ],
   "source": [
    "model_2 = Sequential()\n",
    "\n",
    "\n",
    "# Conv #1\n",
    "model_2.add(Conv2D(32, (5, 5), strides = 1, padding='same',\n",
    "                 input_shape=x_train.shape[1:]))\n",
    "model_2.add(Activation('relu'))\n",
    "\n",
    "# Conv #2\n",
    "model_2.add(Conv2D(32, (5, 5), strides = 1))\n",
    "model_2.add(Activation('relu'))\n",
    "\n",
    "## MaxPool #1\n",
    "model_2.add(MaxPooling2D(pool_size=(2, 2)))\n",
    "model_2.add(Dropout(0.25))\n",
    "\n",
    "# Conv #3\n",
    "model_2.add(Conv2D(32, (5, 5), strides = 1))\n",
    "model_2.add(Activation('relu'))\n",
    "\n",
    "# Conv #4\n",
    "model_2.add(Conv2D(32, (5, 5), strides = 1))\n",
    "model_2.add(Activation('relu'))\n",
    "\n",
    "# MaxPool #2\n",
    "model_2.add(MaxPooling2D(pool_size=(2, 2)))\n",
    "model_2.add(Dropout(0.25))\n",
    "\n",
    "## Flatten turns 3x3x32 into 288x1\n",
    "model_2.add(Flatten())\n",
    "model_2.add(Dense(512))\n",
    "model_2.add(Activation('relu'))\n",
    "model_2.add(Dropout(0.5))\n",
    "model_2.add(Dense(num_classes))\n",
    "model_2.add(Activation('softmax'))\n",
    "\n",
    "model_2.summary()"
   ]
  },
  {
   "cell_type": "markdown",
   "id": "6a64fdf6",
   "metadata": {},
   "source": [
    "### Number of parameters of model_2 is 232,426 while model_1 has 181,162 total number of parameters"
   ]
  },
  {
   "cell_type": "code",
   "execution_count": 13,
   "id": "1b39ad9f",
   "metadata": {},
   "outputs": [
    {
     "name": "stderr",
     "output_type": "stream",
     "text": [
      "c:\\Users\\ADMIN\\anaconda3\\envs\\gpuenv\\lib\\site-packages\\keras\\optimizers\\optimizer_v2\\rmsprop.py:140: UserWarning: The `lr` argument is deprecated, use `learning_rate` instead.\n",
      "  super().__init__(name, **kwargs)\n"
     ]
    },
    {
     "name": "stdout",
     "output_type": "stream",
     "text": [
      "Epoch 1/5\n",
      "1563/1563 [==============================] - 16s 10ms/step - loss: 1.4803 - accuracy: 0.4630 - val_loss: 1.2633 - val_accuracy: 0.5361\n",
      "Epoch 2/5\n",
      "1563/1563 [==============================] - 14s 9ms/step - loss: 1.2669 - accuracy: 0.5487 - val_loss: 1.2117 - val_accuracy: 0.5599\n",
      "Epoch 3/5\n",
      "1563/1563 [==============================] - 14s 9ms/step - loss: 1.1430 - accuracy: 0.5980 - val_loss: 1.4419 - val_accuracy: 0.5358\n",
      "Epoch 4/5\n",
      "1563/1563 [==============================] - 15s 9ms/step - loss: 1.0676 - accuracy: 0.6263 - val_loss: 0.9506 - val_accuracy: 0.6670\n",
      "Epoch 5/5\n",
      "1563/1563 [==============================] - 14s 9ms/step - loss: 1.0191 - accuracy: 0.6462 - val_loss: 0.9437 - val_accuracy: 0.6725\n"
     ]
    }
   ],
   "source": [
    "batch_size = 32\n",
    "\n",
    "opt = keras.optimizers.RMSprop(lr=0.0005)\n",
    "\n",
    "\n",
    "model_2.compile(loss='categorical_crossentropy',\n",
    "              optimizer=opt,\n",
    "              metrics=['accuracy'])\n",
    "\n",
    "hist_2 = model_2.fit(x_train, y_train,\n",
    "              batch_size=batch_size,\n",
    "              epochs=5,\n",
    "              validation_data=(x_test, y_test))"
   ]
  },
  {
   "cell_type": "markdown",
   "id": "8dd7eba0",
   "metadata": {},
   "source": [
    "The training time per epoch is 15 seconds. The average loss for the training data is around 1.2, while the validation data has an average loss of around 1.2. Regarding accuracy, the validation data performs better than the training data. It starts at 0.5361 on the first epoch and increases to 0.6725 on the last epoch. In comparison, the training data starts at 0.4630 and increases to 0.6462 on the last epoch. However, these results from both the training and validation data suggest that the model's performance might not be optimal."
   ]
  },
  {
   "cell_type": "code",
   "execution_count": 15,
   "id": "7742255f",
   "metadata": {},
   "outputs": [
    {
     "name": "stdout",
     "output_type": "stream",
     "text": [
      "Model: \"sequential_3\"\n",
      "_________________________________________________________________\n",
      " Layer (type)                Output Shape              Param #   \n",
      "=================================================================\n",
      " conv2d_8 (Conv2D)           (None, 32, 32, 32)        896       \n",
      "                                                                 \n",
      " batch_normalization_2 (Batc  (None, 32, 32, 32)       128       \n",
      " hNormalization)                                                 \n",
      "                                                                 \n",
      " conv2d_9 (Conv2D)           (None, 32, 32, 32)        9248      \n",
      "                                                                 \n",
      " batch_normalization_3 (Batc  (None, 32, 32, 32)       128       \n",
      " hNormalization)                                                 \n",
      "                                                                 \n",
      " max_pooling2d_3 (MaxPooling  (None, 16, 16, 32)       0         \n",
      " 2D)                                                             \n",
      "                                                                 \n",
      " dropout_5 (Dropout)         (None, 16, 16, 32)        0         \n",
      "                                                                 \n",
      " conv2d_10 (Conv2D)          (None, 16, 16, 64)        18496     \n",
      "                                                                 \n",
      " batch_normalization_4 (Batc  (None, 16, 16, 64)       256       \n",
      " hNormalization)                                                 \n",
      "                                                                 \n",
      " conv2d_11 (Conv2D)          (None, 16, 16, 64)        36928     \n",
      "                                                                 \n",
      " batch_normalization_5 (Batc  (None, 16, 16, 64)       256       \n",
      " hNormalization)                                                 \n",
      "                                                                 \n",
      " max_pooling2d_4 (MaxPooling  (None, 8, 8, 64)         0         \n",
      " 2D)                                                             \n",
      "                                                                 \n",
      " dropout_6 (Dropout)         (None, 8, 8, 64)          0         \n",
      "                                                                 \n",
      " conv2d_12 (Conv2D)          (None, 8, 8, 128)         73856     \n",
      "                                                                 \n",
      " batch_normalization_6 (Batc  (None, 8, 8, 128)        512       \n",
      " hNormalization)                                                 \n",
      "                                                                 \n",
      " conv2d_13 (Conv2D)          (None, 8, 8, 128)         147584    \n",
      "                                                                 \n",
      " batch_normalization_7 (Batc  (None, 8, 8, 128)        512       \n",
      " hNormalization)                                                 \n",
      "                                                                 \n",
      " max_pooling2d_5 (MaxPooling  (None, 4, 4, 128)        0         \n",
      " 2D)                                                             \n",
      "                                                                 \n",
      " dropout_7 (Dropout)         (None, 4, 4, 128)         0         \n",
      "                                                                 \n",
      " flatten_2 (Flatten)         (None, 2048)              0         \n",
      "                                                                 \n",
      " dense_4 (Dense)             (None, 128)               262272    \n",
      "                                                                 \n",
      " dropout_8 (Dropout)         (None, 128)               0         \n",
      "                                                                 \n",
      " dense_5 (Dense)             (None, 10)                1290      \n",
      "                                                                 \n",
      "=================================================================\n",
      "Total params: 552,362\n",
      "Trainable params: 551,466\n",
      "Non-trainable params: 896\n",
      "_________________________________________________________________\n"
     ]
    }
   ],
   "source": [
    "model_3 = Sequential()\n",
    "\n",
    "# Convolutional Layer\n",
    "model_3.add(Conv2D(filters=32, kernel_size=(3, 3), input_shape=(32, 32, 3), activation='relu', padding='same'))\n",
    "model_3.add(BatchNormalization())\n",
    "model_3.add(Conv2D(filters=32, kernel_size=(3, 3), input_shape=(32, 32, 3), activation='relu', padding='same'))\n",
    "model_3.add(BatchNormalization())\n",
    "# Pooling layer\n",
    "model_3.add(MaxPooling2D(pool_size=(2, 2)))\n",
    "# Dropout layers\n",
    "model_3.add(Dropout(0.25))\n",
    "\n",
    "model_3.add(Conv2D(filters=64, kernel_size=(3, 3), input_shape=(32, 32, 3), activation='relu', padding='same'))\n",
    "model_3.add(BatchNormalization())\n",
    "model_3.add(Conv2D(filters=64, kernel_size=(3, 3), input_shape=(32, 32, 3), activation='relu', padding='same'))\n",
    "model_3.add(BatchNormalization())\n",
    "model_3.add(MaxPooling2D(pool_size=(2, 2)))\n",
    "model_3.add(Dropout(0.25))\n",
    "\n",
    "model_3.add(Conv2D(filters=128, kernel_size=(3, 3), input_shape=(32, 32, 3), activation='relu', padding='same'))\n",
    "model_3.add(BatchNormalization())\n",
    "model_3.add(Conv2D(filters=128, kernel_size=(3, 3), input_shape=(32, 32, 3), activation='relu', padding='same'))\n",
    "model_3.add(BatchNormalization())\n",
    "model_3.add(MaxPooling2D(pool_size=(2, 2)))\n",
    "model_3.add(Dropout(0.25))\n",
    "\n",
    "model_3.add(Flatten())\n",
    "# model_3.add(Dropout(0.2))\n",
    "model_3.add(Dense(128, activation='relu'))\n",
    "model_3.add(Dropout(0.25))\n",
    "model_3.add(Dense(10, activation='softmax'))\n",
    "\n",
    "model_3.summary()"
   ]
  },
  {
   "cell_type": "code",
   "execution_count": 16,
   "id": "69c4bbc1",
   "metadata": {},
   "outputs": [
    {
     "name": "stdout",
     "output_type": "stream",
     "text": [
      "Epoch 1/20\n",
      "1563/1563 [==============================] - 24s 14ms/step - loss: 1.5428 - accuracy: 0.4535 - val_loss: 1.5033 - val_accuracy: 0.5029\n",
      "Epoch 2/20\n",
      "1563/1563 [==============================] - 20s 13ms/step - loss: 1.1198 - accuracy: 0.6140 - val_loss: 0.9662 - val_accuracy: 0.6740\n",
      "Epoch 3/20\n",
      "1563/1563 [==============================] - 20s 13ms/step - loss: 0.9739 - accuracy: 0.6680 - val_loss: 0.8971 - val_accuracy: 0.7107\n",
      "Epoch 4/20\n",
      "1563/1563 [==============================] - 19s 12ms/step - loss: 0.9024 - accuracy: 0.6964 - val_loss: 0.8405 - val_accuracy: 0.7205\n",
      "Epoch 5/20\n",
      "1563/1563 [==============================] - 19s 12ms/step - loss: 0.8358 - accuracy: 0.7189 - val_loss: 0.8050 - val_accuracy: 0.7421\n",
      "Epoch 6/20\n",
      "1563/1563 [==============================] - 19s 12ms/step - loss: 0.7933 - accuracy: 0.7365 - val_loss: 0.8426 - val_accuracy: 0.7306\n",
      "Epoch 7/20\n",
      "1563/1563 [==============================] - 26s 17ms/step - loss: 0.7429 - accuracy: 0.7515 - val_loss: 0.8640 - val_accuracy: 0.7169\n",
      "Epoch 8/20\n",
      "1563/1563 [==============================] - 23s 14ms/step - loss: 0.7071 - accuracy: 0.7657 - val_loss: 0.7720 - val_accuracy: 0.7595\n",
      "Epoch 9/20\n",
      "1563/1563 [==============================] - 22s 14ms/step - loss: 0.6741 - accuracy: 0.7778 - val_loss: 0.7028 - val_accuracy: 0.7744\n",
      "Epoch 10/20\n",
      "1563/1563 [==============================] - 20s 13ms/step - loss: 0.6553 - accuracy: 0.7833 - val_loss: 0.7991 - val_accuracy: 0.7710\n",
      "Epoch 11/20\n",
      "1563/1563 [==============================] - 20s 13ms/step - loss: 0.6283 - accuracy: 0.7902 - val_loss: 0.8917 - val_accuracy: 0.7407\n",
      "Epoch 12/20\n",
      "1563/1563 [==============================] - 22s 14ms/step - loss: 0.6073 - accuracy: 0.7993 - val_loss: 0.6741 - val_accuracy: 0.7759\n",
      "Epoch 13/20\n",
      "1563/1563 [==============================] - 20s 13ms/step - loss: 0.5826 - accuracy: 0.8070 - val_loss: 0.7244 - val_accuracy: 0.7860\n",
      "Epoch 14/20\n",
      "1563/1563 [==============================] - 20s 13ms/step - loss: 0.5611 - accuracy: 0.8146 - val_loss: 0.6344 - val_accuracy: 0.8066\n",
      "Epoch 15/20\n",
      "1563/1563 [==============================] - 20s 13ms/step - loss: 0.5382 - accuracy: 0.8203 - val_loss: 0.6543 - val_accuracy: 0.7918\n",
      "Epoch 16/20\n",
      "1563/1563 [==============================] - 19s 12ms/step - loss: 0.5248 - accuracy: 0.8270 - val_loss: 0.7783 - val_accuracy: 0.7867\n",
      "Epoch 17/20\n",
      "1563/1563 [==============================] - 19s 12ms/step - loss: 0.5043 - accuracy: 0.8329 - val_loss: 0.8756 - val_accuracy: 0.7420\n",
      "Epoch 18/20\n",
      "1563/1563 [==============================] - 19s 12ms/step - loss: 0.4838 - accuracy: 0.8382 - val_loss: 0.6039 - val_accuracy: 0.8215\n",
      "Epoch 19/20\n",
      "1563/1563 [==============================] - 20s 13ms/step - loss: 0.4683 - accuracy: 0.8431 - val_loss: 0.6164 - val_accuracy: 0.8135\n",
      "Epoch 20/20\n",
      "1563/1563 [==============================] - 19s 12ms/step - loss: 0.4546 - accuracy: 0.8476 - val_loss: 0.5800 - val_accuracy: 0.8314\n"
     ]
    }
   ],
   "source": [
    "batch_size = 32\n",
    "\n",
    "opt = keras.optimizers.RMSprop(lr=0.0005)\n",
    "\n",
    "\n",
    "model_3.compile(loss='categorical_crossentropy',\n",
    "              optimizer=opt,\n",
    "              metrics=['accuracy'])\n",
    "\n",
    "hist_3 = model_3.fit(x_train, y_train,\n",
    "              batch_size=batch_size,\n",
    "              epochs=20,\n",
    "              validation_data=(x_test, y_test))"
   ]
  },
  {
   "cell_type": "code",
   "execution_count": 18,
   "id": "45d3d28b",
   "metadata": {},
   "outputs": [
    {
     "data": {
      "image/png": "[encoded data removed]",
      "text/plain": [
       "<Figure size 1200x600 with 2 Axes>"
      ]
     },
     "metadata": {},
     "output_type": "display_data"
    }
   ],
   "source": [
    "def plot_loss_accuracy(history):\n",
    "    fig = plt.figure(figsize=(12, 6))\n",
    "    ax = fig.add_subplot(1, 2, 1)\n",
    "    ax.plot(history.history[\"loss\"],'r-x', label=\"Train Loss\")\n",
    "    ax.plot(history.history[\"val_loss\"],'b-x', label=\"Validation Loss\")\n",
    "    ax.legend()\n",
    "    ax.set_title('cross_entropy loss')\n",
    "    ax.grid(True)\n",
    "\n",
    "\n",
    "    ax = fig.add_subplot(1, 2, 2)\n",
    "    ax.plot(history.history[\"accuracy\"],'r-x', label=\"Train Accuracy\")\n",
    "    ax.plot(history.history[\"val_accuracy\"],'b-x', label=\"Validation Accuracy\")\n",
    "    ax.legend()\n",
    "    ax.set_title('accuracy')\n",
    "    ax.grid(True)\n",
    "    \n",
    "\n",
    "plot_loss_accuracy(hist_3)"
   ]
  },
  {
   "cell_type": "markdown",
   "id": "compact-still",
   "metadata": {},
   "source": [
    "#### Conclusion"
   ]
  },
  {
   "cell_type": "markdown",
   "id": "desirable-jackson",
   "metadata": {},
   "source": [
    "In this activity, I learned about how convolutional neural networks (CNNs) function and their usefulness in image detection. I also gained experience in building and training CNNs. CNNs are powerful tools because they can automatically learn features from data, making them highly valuable for a wide range of applications in computer vision."
   ]
  },
  {
   "cell_type": "markdown",
   "id": "dce24da1",
   "metadata": {},
   "source": []
  }
 ],
 "metadata": {
  "kernelspec": {
   "display_name": "Python 3",
   "language": "python",
   "name": "python3"
  },
  "language_info": {
   "codemirror_mode": {
    "name": "ipython",
    "version": 3
   },
   "file_extension": ".py",
   "mimetype": "text/x-python",
   "name": "python",
   "nbconvert_exporter": "python",
   "pygments_lexer": "ipython3",
   "version": "3.9.18"
  }
 },
 "nbformat": 4,
 "nbformat_minor": 5
}
