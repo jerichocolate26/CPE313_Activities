{
 "cells": [
  {
   "cell_type": "markdown",
   "id": "historic-trainer",
   "metadata": {},
   "source": [
    "# Activity 2.1 : Convolutional Neural Network"
   ]
  },
  {
   "cell_type": "markdown",
   "id": "olive-manner",
   "metadata": {},
   "source": [
    "#### Objective(s):\n",
    "\n",
    "This activity aims to introduce how to build a convolutional neural network"
   ]
  },
  {
   "cell_type": "markdown",
   "id": "happy-transport",
   "metadata": {},
   "source": [
    "#### Intended Learning Outcomes (ILOs):\n",
    "* Demonstrate how to build and train convolutional neural network \n",
    "* Evaluate the accuracy and loss of the model using convolutional neural network"
   ]
  },
  {
   "cell_type": "markdown",
   "id": "leading-providence",
   "metadata": {},
   "source": [
    "#### Resources:\n",
    "* Jupyter Notebook\n",
    "* CIFAR-10 dataset"
   ]
  },
  {
   "cell_type": "markdown",
   "id": "literary-trail",
   "metadata": {},
   "source": [
    "#### Procedures\n",
    "Load the necessary libraries"
   ]
  },
  {
   "cell_type": "code",
   "execution_count": 1,
   "id": "stretch-active",
   "metadata": {},
   "outputs": [],
   "source": [
    "from __future__ import print_function\n",
    "import keras\n",
    "from keras.datasets import cifar10\n",
    "from keras.preprocessing.image import ImageDataGenerator\n",
    "from keras.models import Sequential\n",
    "from keras.layers import Dense, Dropout, Activation, Flatten, BatchNormalization\n",
    "from keras.layers import Conv2D, MaxPooling2D\n",
    "\n",
    "import matplotlib.pyplot as plt\n",
    "%matplotlib inline"
   ]
  },
  {
   "cell_type": "markdown",
   "id": "collaborative-seating",
   "metadata": {},
   "source": [
    "* Shuffle the data\n",
    "* Split the data into train and test sets"
   ]
  },
  {
   "cell_type": "code",
   "execution_count": 2,
   "id": "modular-springer",
   "metadata": {},
   "outputs": [
    {
     "name": "stdout",
     "output_type": "stream",
     "text": [
      "x_train shape: (50000, 32, 32, 3)\n",
      "50000 train samples\n",
      "10000 test samples\n"
     ]
    }
   ],
   "source": [
    "\n",
    "(x_train, y_train), (x_test, y_test) = cifar10.load_data()\n",
    "print('x_train shape:', x_train.shape)\n",
    "print(x_train.shape[0], 'train samples')\n",
    "print(x_test.shape[0], 'test samples')"
   ]
  },
  {
   "cell_type": "markdown",
   "id": "female-carolina",
   "metadata": {},
   "source": [
    "Check the image size"
   ]
  },
  {
   "cell_type": "code",
   "execution_count": 3,
   "id": "alleged-stephen",
   "metadata": {},
   "outputs": [
    {
     "data": {
      "text/plain": [
       "(32, 32, 3)"
      ]
     },
     "execution_count": 3,
     "metadata": {},
     "output_type": "execute_result"
    }
   ],
   "source": [
    "\n",
    "x_train[444].shape"
   ]
  },
  {
   "cell_type": "markdown",
   "id": "conscious-twenty",
   "metadata": {},
   "source": [
    "Visualize one of the images"
   ]
  },
  {
   "cell_type": "code",
   "execution_count": 4,
   "id": "positive-creation",
   "metadata": {},
   "outputs": [
    {
     "name": "stdout",
     "output_type": "stream",
     "text": [
      "[9]\n"
     ]
    },
    {
     "data": {
      "image/png": "[encoded data removed]",
      "text/plain": [
       "<Figure size 640x480 with 1 Axes>"
      ]
     },
     "metadata": {},
     "output_type": "display_data"
    }
   ],
   "source": [
    "print(y_train[444])\n",
    "plt.imshow(x_train[444]);"
   ]
  },
  {
   "cell_type": "code",
   "execution_count": 5,
   "id": "animated-rotation",
   "metadata": {},
   "outputs": [],
   "source": [
    "num_classes = 10\n",
    "\n",
    "y_train = keras.utils.to_categorical(y_train, num_classes)\n",
    "y_test = keras.utils.to_categorical(y_test, num_classes)"
   ]
  },
  {
   "cell_type": "markdown",
   "id": "severe-filing",
   "metadata": {},
   "source": [
    "Instead of classes described by an integer between 0-9 we have a vector with a 1 in the (Pythonic) 9th position"
   ]
  },
  {
   "cell_type": "code",
   "execution_count": 6,
   "id": "genetic-centre",
   "metadata": {},
   "outputs": [
    {
     "data": {
      "text/plain": [
       "array([0., 0., 0., 0., 0., 0., 0., 0., 0., 1.], dtype=float32)"
      ]
     },
     "execution_count": 6,
     "metadata": {},
     "output_type": "execute_result"
    }
   ],
   "source": [
    "y_train[444]"
   ]
  },
  {
   "cell_type": "markdown",
   "id": "detected-education",
   "metadata": {},
   "source": [
    "Convert to float and scale the datasets"
   ]
  },
  {
   "cell_type": "code",
   "execution_count": 7,
   "id": "familiar-damages",
   "metadata": {},
   "outputs": [],
   "source": [
    "x_train = x_train.astype('float32')\n",
    "x_test = x_test.astype('float32')\n",
    "x_train /= 255\n",
    "x_test /= 255"
   ]
  },
  {
   "cell_type": "markdown",
   "id": "bizarre-smith",
   "metadata": {},
   "source": [
    "Build a CNN using Keras Sequential"
   ]
  },
  {
   "cell_type": "code",
   "execution_count": 8,
   "id": "understanding-milan",
   "metadata": {},
   "outputs": [
    {
     "name": "stdout",
     "output_type": "stream",
     "text": [
      "Model: \"sequential\"\n",
      "_________________________________________________________________\n",
      " Layer (type)                Output Shape              Param #   \n",
      "=================================================================\n",
      " conv2d (Conv2D)             (None, 16, 16, 32)        2432      \n",
      "                                                                 \n",
      " activation (Activation)     (None, 16, 16, 32)        0         \n",
      "                                                                 \n",
      " conv2d_1 (Conv2D)           (None, 6, 6, 32)          25632     \n",
      "                                                                 \n",
      " activation_1 (Activation)   (None, 6, 6, 32)          0         \n",
      "                                                                 \n",
      " max_pooling2d (MaxPooling2  (None, 3, 3, 32)          0         \n",
      " D)                                                              \n",
      "                                                                 \n",
      " dropout (Dropout)           (None, 3, 3, 32)          0         \n",
      "                                                                 \n",
      " flatten (Flatten)           (None, 288)               0         \n",
      "                                                                 \n",
      " dense (Dense)               (None, 512)               147968    \n",
      "                                                                 \n",
      " activation_2 (Activation)   (None, 512)               0         \n",
      "                                                                 \n",
      " dropout_1 (Dropout)         (None, 512)               0         \n",
      "                                                                 \n",
      " dense_1 (Dense)             (None, 10)                5130      \n",
      "                                                                 \n",
      " activation_3 (Activation)   (None, 10)                0         \n",
      "                                                                 \n",
      "=================================================================\n",
      "Total params: 181162 (707.66 KB)\n",
      "Trainable params: 181162 (707.66 KB)\n",
      "Non-trainable params: 0 (0.00 Byte)\n",
      "_________________________________________________________________\n"
     ]
    }
   ],
   "source": [
    "\n",
    "model_1 = Sequential()\n",
    "\n",
    "\n",
    "## 5x5 convolution with 2x2 stride and 32 filters\n",
    "model_1.add(Conv2D(32, (5, 5), strides = (2,2), padding='same',\n",
    "                 input_shape=x_train.shape[1:]))\n",
    "model_1.add(Activation('relu'))\n",
    "\n",
    "## Another 5x5 convolution with 2x2 stride and 32 filters\n",
    "model_1.add(Conv2D(32, (5, 5), strides = (2,2)))\n",
    "model_1.add(Activation('relu'))\n",
    "\n",
    "## 2x2 max pooling reduces to 3 x 3 x 32\n",
    "model_1.add(MaxPooling2D(pool_size=(2, 2)))\n",
    "model_1.add(Dropout(0.25))\n",
    "\n",
    "## Flatten turns 3x3x32 into 288x1\n",
    "model_1.add(Flatten())\n",
    "model_1.add(Dense(512))\n",
    "model_1.add(Activation('relu'))\n",
    "model_1.add(Dropout(0.5))\n",
    "model_1.add(Dense(num_classes))\n",
    "model_1.add(Activation('softmax'))\n",
    "\n",
    "model_1.summary()"
   ]
  },
  {
   "cell_type": "markdown",
   "id": "baking-portable",
   "metadata": {},
   "source": [
    "* Use batch size of 32\n",
    "* Initiate RMSprop optimizer\n",
    "* Train the model using RMSprop"
   ]
  },
  {
   "cell_type": "code",
   "execution_count": 9,
   "id": "removed-memorial",
   "metadata": {},
   "outputs": [
    {
     "name": "stderr",
     "output_type": "stream",
     "text": [
      "WARNING:absl:`lr` is deprecated in Keras optimizer, please use `learning_rate` or use the legacy optimizer, e.g.,tf.keras.optimizers.legacy.RMSprop.\n"
     ]
    },
    {
     "name": "stdout",
     "output_type": "stream",
     "text": [
      "Epoch 1/15\n",
      "1563/1563 [==============================] - 16s 10ms/step - loss: 1.6821 - accuracy: 0.3859 - val_loss: 1.5000 - val_accuracy: 0.4823\n",
      "Epoch 2/15\n",
      "1563/1563 [==============================] - 15s 10ms/step - loss: 1.4280 - accuracy: 0.4898 - val_loss: 1.2856 - val_accuracy: 0.5423\n",
      "Epoch 3/15\n",
      "1563/1563 [==============================] - 15s 10ms/step - loss: 1.3458 - accuracy: 0.5221 - val_loss: 1.2919 - val_accuracy: 0.5523\n",
      "Epoch 4/15\n",
      "1563/1563 [==============================] - 15s 10ms/step - loss: 1.3073 - accuracy: 0.5403 - val_loss: 1.3103 - val_accuracy: 0.5429\n",
      "Epoch 5/15\n",
      "1563/1563 [==============================] - 15s 9ms/step - loss: 1.2896 - accuracy: 0.5498 - val_loss: 1.2620 - val_accuracy: 0.5676\n",
      "Epoch 6/15\n",
      "1563/1563 [==============================] - 15s 9ms/step - loss: 1.2736 - accuracy: 0.5584 - val_loss: 1.1610 - val_accuracy: 0.5903\n",
      "Epoch 7/15\n",
      "1563/1563 [==============================] - 15s 10ms/step - loss: 1.2752 - accuracy: 0.5600 - val_loss: 1.2107 - val_accuracy: 0.5874\n",
      "Epoch 8/15\n",
      "1563/1563 [==============================] - 15s 9ms/step - loss: 1.2627 - accuracy: 0.5688 - val_loss: 1.1846 - val_accuracy: 0.5993\n",
      "Epoch 9/15\n",
      "1563/1563 [==============================] - 15s 9ms/step - loss: 1.2594 - accuracy: 0.5720 - val_loss: 1.2828 - val_accuracy: 0.5563\n",
      "Epoch 10/15\n",
      "1563/1563 [==============================] - 15s 10ms/step - loss: 1.2592 - accuracy: 0.5721 - val_loss: 1.2170 - val_accuracy: 0.5839\n",
      "Epoch 11/15\n",
      "1563/1563 [==============================] - 15s 10ms/step - loss: 1.2646 - accuracy: 0.5728 - val_loss: 1.1632 - val_accuracy: 0.6009\n",
      "Epoch 12/15\n",
      "1563/1563 [==============================] - 15s 10ms/step - loss: 1.2759 - accuracy: 0.5684 - val_loss: 1.2550 - val_accuracy: 0.5694\n",
      "Epoch 13/15\n",
      "1563/1563 [==============================] - 15s 10ms/step - loss: 1.2713 - accuracy: 0.5712 - val_loss: 1.1755 - val_accuracy: 0.6155\n",
      "Epoch 14/15\n",
      "1563/1563 [==============================] - 15s 9ms/step - loss: 1.2916 - accuracy: 0.5648 - val_loss: 1.3330 - val_accuracy: 0.5709\n",
      "Epoch 15/15\n",
      "1563/1563 [==============================] - 15s 10ms/step - loss: 1.2975 - accuracy: 0.5666 - val_loss: 1.1785 - val_accuracy: 0.6037\n"
     ]
    },
    {
     "data": {
      "text/plain": [
       "<keras.src.callbacks.History at 0x28b986ca410>"
      ]
     },
     "execution_count": 9,
     "metadata": {},
     "output_type": "execute_result"
    }
   ],
   "source": [
    "batch_size = 32\n",
    "\n",
    "opt = keras.optimizers.RMSprop(lr=0.0005)\n",
    "\n",
    "\n",
    "model_1.compile(loss='categorical_crossentropy',\n",
    "              optimizer=opt,\n",
    "              metrics=['accuracy'])\n",
    "\n",
    "model_1.fit(x_train, y_train,\n",
    "              batch_size=batch_size,\n",
    "              epochs=15,\n",
    "              validation_data=(x_test, y_test))"
   ]
  },
  {
   "cell_type": "markdown",
   "id": "jewish-lambda",
   "metadata": {},
   "source": [
    "#### Supplementary Activity"
   ]
  },
  {
   "cell_type": "markdown",
   "id": "southeast-theater",
   "metadata": {},
   "source": [
    "* Build a more complicated model with the following pattern:\n",
    "Conv -> Conv -> MaxPool -> Conv -> Conv -> MaxPool -> (Flatten) -> Dense -> Final Classification\n",
    "\n",
    "* Use strides of 1 for all convolutional layers.\n",
    "\n",
    "* Write the number of parameters of your model  and compare it to the previous model\n",
    "\n",
    "* Train it for 5 epochs. Commpare the training time, loss and accuracy numbers (on both the training and validation sets)?\n",
    "\n",
    "* Use different structures and run times, and see how accurate your model can be."
   ]
  },
  {
   "cell_type": "code",
   "execution_count": 10,
   "id": "be5e40e4",
   "metadata": {},
   "outputs": [
    {
     "name": "stdout",
     "output_type": "stream",
     "text": [
      "Model: \"sequential_1\"\n",
      "_________________________________________________________________\n",
      " Layer (type)                Output Shape              Param #   \n",
      "=================================================================\n",
      " conv2d_2 (Conv2D)           (None, 32, 32, 32)        2432      \n",
      "                                                                 \n",
      " activation_4 (Activation)   (None, 32, 32, 32)        0         \n",
      "                                                                 \n",
      " conv2d_3 (Conv2D)           (None, 28, 28, 32)        25632     \n",
      "                                                                 \n",
      " activation_5 (Activation)   (None, 28, 28, 32)        0         \n",
      "                                                                 \n",
      " max_pooling2d_1 (MaxPoolin  (None, 14, 14, 32)        0         \n",
      " g2D)                                                            \n",
      "                                                                 \n",
      " dropout_2 (Dropout)         (None, 14, 14, 32)        0         \n",
      "                                                                 \n",
      " conv2d_4 (Conv2D)           (None, 10, 10, 32)        25632     \n",
      "                                                                 \n",
      " activation_6 (Activation)   (None, 10, 10, 32)        0         \n",
      "                                                                 \n",
      " conv2d_5 (Conv2D)           (None, 6, 6, 32)          25632     \n",
      "                                                                 \n",
      " activation_7 (Activation)   (None, 6, 6, 32)          0         \n",
      "                                                                 \n",
      " max_pooling2d_2 (MaxPoolin  (None, 3, 3, 32)          0         \n",
      " g2D)                                                            \n",
      "                                                                 \n",
      " dropout_3 (Dropout)         (None, 3, 3, 32)          0         \n",
      "                                                                 \n",
      " flatten_1 (Flatten)         (None, 288)               0         \n",
      "                                                                 \n",
      " dense_2 (Dense)             (None, 512)               147968    \n",
      "                                                                 \n",
      " activation_8 (Activation)   (None, 512)               0         \n",
      "                                                                 \n",
      " dropout_4 (Dropout)         (None, 512)               0         \n",
      "                                                                 \n",
      " dense_3 (Dense)             (None, 10)                5130      \n",
      "                                                                 \n",
      " activation_9 (Activation)   (None, 10)                0         \n",
      "                                                                 \n",
      "=================================================================\n",
      "Total params: 232426 (907.91 KB)\n",
      "Trainable params: 232426 (907.91 KB)\n",
      "Non-trainable params: 0 (0.00 Byte)\n",
      "_________________________________________________________________\n"
     ]
    }
   ],
   "source": [
    "model_2 = Sequential()\n",
    "\n",
    "\n",
    "# Conv #1\n",
    "model_2.add(Conv2D(32, (5, 5), strides = 1, padding='same',\n",
    "                 input_shape=x_train.shape[1:]))\n",
    "model_2.add(Activation('relu'))\n",
    "\n",
    "# Conv #2\n",
    "model_2.add(Conv2D(32, (5, 5), strides = 1))\n",
    "model_2.add(Activation('relu'))\n",
    "\n",
    "## MaxPool #1\n",
    "model_2.add(MaxPooling2D(pool_size=(2, 2)))\n",
    "model_2.add(Dropout(0.25))\n",
    "\n",
    "# Conv #3\n",
    "model_2.add(Conv2D(32, (5, 5), strides = 1))\n",
    "model_2.add(Activation('relu'))\n",
    "\n",
    "# Conv #4\n",
    "model_2.add(Conv2D(32, (5, 5), strides = 1))\n",
    "model_2.add(Activation('relu'))\n",
    "\n",
    "# MaxPool #2\n",
    "model_2.add(MaxPooling2D(pool_size=(2, 2)))\n",
    "model_2.add(Dropout(0.25))\n",
    "\n",
    "## Flatten turns 3x3x32 into 288x1\n",
    "model_2.add(Flatten())\n",
    "model_2.add(Dense(512))\n",
    "model_2.add(Activation('relu'))\n",
    "model_2.add(Dropout(0.5))\n",
    "model_2.add(Dense(num_classes))\n",
    "model_2.add(Activation('softmax'))\n",
    "\n",
    "model_2.summary()"
   ]
  },
  {
   "cell_type": "markdown",
   "id": "6a64fdf6",
   "metadata": {},
   "source": [
    "### Number of parameters of model_2 is 232,426 while model_1 has 181,162 total number of parameters"
   ]
  },
  {
   "cell_type": "code",
   "execution_count": 11,
   "id": "1b39ad9f",
   "metadata": {},
   "outputs": [
    {
     "name": "stderr",
     "output_type": "stream",
     "text": [
      "WARNING:absl:`lr` is deprecated in Keras optimizer, please use `learning_rate` or use the legacy optimizer, e.g.,tf.keras.optimizers.legacy.RMSprop.\n"
     ]
    },
    {
     "name": "stdout",
     "output_type": "stream",
     "text": [
      "Epoch 1/5\n",
      "1563/1563 [==============================] - 85s 54ms/step - loss: 1.7180 - accuracy: 0.3671 - val_loss: 1.4281 - val_accuracy: 0.4748\n",
      "Epoch 2/5\n",
      "1563/1563 [==============================] - 84s 54ms/step - loss: 1.3909 - accuracy: 0.5039 - val_loss: 1.1999 - val_accuracy: 0.5749\n",
      "Epoch 3/5\n",
      "1563/1563 [==============================] - 84s 54ms/step - loss: 1.2783 - accuracy: 0.5541 - val_loss: 1.1924 - val_accuracy: 0.5828\n",
      "Epoch 4/5\n",
      "1563/1563 [==============================] - 84s 54ms/step - loss: 1.2252 - accuracy: 0.5784 - val_loss: 1.1920 - val_accuracy: 0.5985\n",
      "Epoch 5/5\n",
      "1563/1563 [==============================] - 84s 54ms/step - loss: 1.2123 - accuracy: 0.5913 - val_loss: 1.1206 - val_accuracy: 0.6062\n"
     ]
    },
    {
     "data": {
      "text/plain": [
       "<keras.src.callbacks.History at 0x28ba2be46d0>"
      ]
     },
     "execution_count": 11,
     "metadata": {},
     "output_type": "execute_result"
    }
   ],
   "source": [
    "batch_size = 32\n",
    "\n",
    "opt = keras.optimizers.RMSprop(lr=0.0005)\n",
    "\n",
    "\n",
    "model_2.compile(loss='categorical_crossentropy',\n",
    "              optimizer=opt,\n",
    "              metrics=['accuracy'])\n",
    "\n",
    "model_2.fit(x_train, y_train,\n",
    "              batch_size=batch_size,\n",
    "              epochs=5,\n",
    "              validation_data=(x_test, y_test))"
   ]
  },
  {
   "cell_type": "markdown",
   "id": "8dd7eba0",
   "metadata": {},
   "source": [
    "The training time per epoch is 84 seconds. The average loss for the training data is 1.35, while the validation data has an average loss of 1.27. Regarding accuracy, the validation data performs better than the training data. It starts at 0.5031 on the first epoch and increases to 0.5954 on the last epoch. In comparison, the training data starts at 0.3639 and increases to 0.5871 on the last epoch. However, these results from both the training and validation data suggest that the model's performance might not be optimal."
   ]
  },
  {
   "cell_type": "code",
   "execution_count": 15,
   "id": "7742255f",
   "metadata": {},
   "outputs": [
    {
     "name": "stdout",
     "output_type": "stream",
     "text": [
      "Model: \"sequential_3\"\n",
      "_________________________________________________________________\n",
      " Layer (type)                Output Shape              Param #   \n",
      "=================================================================\n",
      " conv2d_12 (Conv2D)          (None, 32, 32, 32)        896       \n",
      "                                                                 \n",
      " batch_normalization_6 (Bat  (None, 32, 32, 32)        128       \n",
      " chNormalization)                                                \n",
      "                                                                 \n",
      " conv2d_13 (Conv2D)          (None, 32, 32, 32)        9248      \n",
      "                                                                 \n",
      " batch_normalization_7 (Bat  (None, 32, 32, 32)        128       \n",
      " chNormalization)                                                \n",
      "                                                                 \n",
      " max_pooling2d_6 (MaxPoolin  (None, 16, 16, 32)        0         \n",
      " g2D)                                                            \n",
      "                                                                 \n",
      " dropout_9 (Dropout)         (None, 16, 16, 32)        0         \n",
      "                                                                 \n",
      " conv2d_14 (Conv2D)          (None, 16, 16, 64)        18496     \n",
      "                                                                 \n",
      " batch_normalization_8 (Bat  (None, 16, 16, 64)        256       \n",
      " chNormalization)                                                \n",
      "                                                                 \n",
      " conv2d_15 (Conv2D)          (None, 16, 16, 64)        36928     \n",
      "                                                                 \n",
      " batch_normalization_9 (Bat  (None, 16, 16, 64)        256       \n",
      " chNormalization)                                                \n",
      "                                                                 \n",
      " max_pooling2d_7 (MaxPoolin  (None, 8, 8, 64)          0         \n",
      " g2D)                                                            \n",
      "                                                                 \n",
      " dropout_10 (Dropout)        (None, 8, 8, 64)          0         \n",
      "                                                                 \n",
      " conv2d_16 (Conv2D)          (None, 8, 8, 128)         73856     \n",
      "                                                                 \n",
      " batch_normalization_10 (Ba  (None, 8, 8, 128)         512       \n",
      " tchNormalization)                                               \n",
      "                                                                 \n",
      " conv2d_17 (Conv2D)          (None, 8, 8, 128)         147584    \n",
      "                                                                 \n",
      " batch_normalization_11 (Ba  (None, 8, 8, 128)         512       \n",
      " tchNormalization)                                               \n",
      "                                                                 \n",
      " max_pooling2d_8 (MaxPoolin  (None, 4, 4, 128)         0         \n",
      " g2D)                                                            \n",
      "                                                                 \n",
      " dropout_11 (Dropout)        (None, 4, 4, 128)         0         \n",
      "                                                                 \n",
      " flatten_3 (Flatten)         (None, 2048)              0         \n",
      "                                                                 \n",
      " dense_6 (Dense)             (None, 128)               262272    \n",
      "                                                                 \n",
      " dropout_12 (Dropout)        (None, 128)               0         \n",
      "                                                                 \n",
      " dense_7 (Dense)             (None, 10)                1290      \n",
      "                                                                 \n",
      "=================================================================\n",
      "Total params: 552362 (2.11 MB)\n",
      "Trainable params: 551466 (2.10 MB)\n",
      "Non-trainable params: 896 (3.50 KB)\n",
      "_________________________________________________________________\n"
     ]
    }
   ],
   "source": [
    "model_3 = Sequential()\n",
    "\n",
    "# Convolutional Layer\n",
    "model_3.add(Conv2D(filters=32, kernel_size=(3, 3), input_shape=(32, 32, 3), activation='relu', padding='same'))\n",
    "model_3.add(BatchNormalization())\n",
    "model_3.add(Conv2D(filters=32, kernel_size=(3, 3), input_shape=(32, 32, 3), activation='relu', padding='same'))\n",
    "model_3.add(BatchNormalization())\n",
    "# Pooling layer\n",
    "model_3.add(MaxPool2D(pool_size=(2, 2)))\n",
    "# Dropout layers\n",
    "model_3.add(Dropout(0.25))\n",
    "\n",
    "model_3.add(Conv2D(filters=64, kernel_size=(3, 3), input_shape=(32, 32, 3), activation='relu', padding='same'))\n",
    "model_3.add(BatchNormalization())\n",
    "model_3.add(Conv2D(filters=64, kernel_size=(3, 3), input_shape=(32, 32, 3), activation='relu', padding='same'))\n",
    "model_3.add(BatchNormalization())\n",
    "model_3.add(MaxPool2D(pool_size=(2, 2)))\n",
    "model_3.add(Dropout(0.25))\n",
    "\n",
    "model_3.add(Conv2D(filters=128, kernel_size=(3, 3), input_shape=(32, 32, 3), activation='relu', padding='same'))\n",
    "model_3.add(BatchNormalization())\n",
    "model_3.add(Conv2D(filters=128, kernel_size=(3, 3), input_shape=(32, 32, 3), activation='relu', padding='same'))\n",
    "model_3.add(BatchNormalization())\n",
    "model_3.add(MaxPool2D(pool_size=(2, 2)))\n",
    "model_3.add(Dropout(0.25))\n",
    "\n",
    "model_3.add(Flatten())\n",
    "# model_3.add(Dropout(0.2))\n",
    "model_3.add(Dense(128, activation='relu'))\n",
    "model_3.add(Dropout(0.25))\n",
    "model_3.add(Dense(10, activation='softmax'))\n",
    "\n",
    "model_3.summary()"
   ]
  },
  {
   "cell_type": "code",
   "execution_count": 16,
   "id": "69c4bbc1",
   "metadata": {},
   "outputs": [
    {
     "name": "stderr",
     "output_type": "stream",
     "text": [
      "WARNING:absl:`lr` is deprecated in Keras optimizer, please use `learning_rate` or use the legacy optimizer, e.g.,tf.keras.optimizers.legacy.RMSprop.\n"
     ]
    },
    {
     "name": "stdout",
     "output_type": "stream",
     "text": [
      "Epoch 1/20\n",
      "1563/1563 [==============================] - 148s 94ms/step - loss: 1.5418 - accuracy: 0.4600 - val_loss: 1.2239 - val_accuracy: 0.5819\n",
      "Epoch 2/20\n",
      "1563/1563 [==============================] - 145s 93ms/step - loss: 1.1553 - accuracy: 0.6082 - val_loss: 1.0724 - val_accuracy: 0.6427\n",
      "Epoch 3/20\n",
      "1563/1563 [==============================] - 145s 93ms/step - loss: 1.0095 - accuracy: 0.6590 - val_loss: 0.9272 - val_accuracy: 0.6865\n",
      "Epoch 4/20\n",
      "1563/1563 [==============================] - 145s 93ms/step - loss: 0.9259 - accuracy: 0.6922 - val_loss: 0.9782 - val_accuracy: 0.7131\n",
      "Epoch 5/20\n",
      "1563/1563 [==============================] - 145s 93ms/step - loss: 0.8554 - accuracy: 0.7137 - val_loss: 0.7184 - val_accuracy: 0.7579\n",
      "Epoch 6/20\n",
      "1563/1563 [==============================] - 145s 93ms/step - loss: 0.7991 - accuracy: 0.7310 - val_loss: 0.7340 - val_accuracy: 0.7614\n",
      "Epoch 7/20\n",
      "1563/1563 [==============================] - 145s 93ms/step - loss: 0.7465 - accuracy: 0.7495 - val_loss: 1.0145 - val_accuracy: 0.7001\n",
      "Epoch 8/20\n",
      "1563/1563 [==============================] - 145s 93ms/step - loss: 0.6918 - accuracy: 0.7642 - val_loss: 0.7320 - val_accuracy: 0.7628\n",
      "Epoch 9/20\n",
      "1563/1563 [==============================] - 145s 93ms/step - loss: 0.6583 - accuracy: 0.7808 - val_loss: 0.6904 - val_accuracy: 0.7692\n",
      "Epoch 10/20\n",
      "1563/1563 [==============================] - 145s 93ms/step - loss: 0.6100 - accuracy: 0.7930 - val_loss: 1.1400 - val_accuracy: 0.6812\n",
      "Epoch 11/20\n",
      "1563/1563 [==============================] - 145s 93ms/step - loss: 0.5808 - accuracy: 0.8018 - val_loss: 0.7309 - val_accuracy: 0.7812\n",
      "Epoch 12/20\n",
      "1563/1563 [==============================] - 145s 93ms/step - loss: 0.5418 - accuracy: 0.8171 - val_loss: 0.5948 - val_accuracy: 0.7997\n",
      "Epoch 13/20\n",
      "1563/1563 [==============================] - 145s 93ms/step - loss: 0.5153 - accuracy: 0.8235 - val_loss: 0.5971 - val_accuracy: 0.8054\n",
      "Epoch 14/20\n",
      "1563/1563 [==============================] - 146s 93ms/step - loss: 0.4879 - accuracy: 0.8345 - val_loss: 0.6640 - val_accuracy: 0.7894\n",
      "Epoch 15/20\n",
      "1563/1563 [==============================] - 146s 93ms/step - loss: 0.4637 - accuracy: 0.8416 - val_loss: 0.5306 - val_accuracy: 0.8281\n",
      "Epoch 16/20\n",
      "1563/1563 [==============================] - 146s 93ms/step - loss: 0.4383 - accuracy: 0.8480 - val_loss: 0.5623 - val_accuracy: 0.8223\n",
      "Epoch 17/20\n",
      "1563/1563 [==============================] - 145s 93ms/step - loss: 0.4277 - accuracy: 0.8533 - val_loss: 0.5664 - val_accuracy: 0.8164\n",
      "Epoch 18/20\n",
      "1563/1563 [==============================] - 146s 93ms/step - loss: 0.4114 - accuracy: 0.8593 - val_loss: 0.7298 - val_accuracy: 0.7768\n",
      "Epoch 19/20\n",
      "1563/1563 [==============================] - 146s 93ms/step - loss: 0.4008 - accuracy: 0.8638 - val_loss: 0.7386 - val_accuracy: 0.7651\n",
      "Epoch 20/20\n",
      "1563/1563 [==============================] - 146s 93ms/step - loss: 0.3841 - accuracy: 0.8687 - val_loss: 0.5177 - val_accuracy: 0.8368\n"
     ]
    },
    {
     "data": {
      "text/plain": [
       "<keras.src.callbacks.History at 0x28bcaa67cd0>"
      ]
     },
     "execution_count": 16,
     "metadata": {},
     "output_type": "execute_result"
    }
   ],
   "source": [
    "batch_size = 32\n",
    "\n",
    "opt = keras.optimizers.RMSprop(lr=0.0005)\n",
    "\n",
    "\n",
    "model_3.compile(loss='categorical_crossentropy',\n",
    "              optimizer=opt,\n",
    "              metrics=['accuracy'])\n",
    "\n",
    "model_3.fit(x_train, y_train,\n",
    "              batch_size=batch_size,\n",
    "              epochs=20,\n",
    "              validation_data=(x_test, y_test))"
   ]
  },
  {
   "cell_type": "markdown",
   "id": "bbd24707",
   "metadata": {},
   "source": [
    "After trying different network structures, this is the best result I've got so far wherein last epoch, the training accuracy is 0.8687 while validation accuracy is 0.8368 and the training loss is 0.3841 and validation loss is 0.5177."
   ]
  },
  {
   "cell_type": "markdown",
   "id": "compact-still",
   "metadata": {},
   "source": [
    "#### Conclusion"
   ]
  },
  {
   "cell_type": "markdown",
   "id": "desirable-jackson",
   "metadata": {},
   "source": [
    "In this activity, I learned about how convolutional neural networks (CNNs) function and their usefulness in image detection. I also gained experience in building and training CNNs. CNNs are powerful tools because they can automatically learn features from data, making them highly valuable for a wide range of applications in computer vision."
   ]
  },
  {
   "cell_type": "markdown",
   "id": "dce24da1",
   "metadata": {},
   "source": []
  }
 ],
 "metadata": {
  "kernelspec": {
   "display_name": "Python 3",
   "language": "python",
   "name": "python3"
  },
  "language_info": {
   "codemirror_mode": {
    "name": "ipython",
    "version": 3
   },
   "file_extension": ".py",
   "mimetype": "text/x-python",
   "name": "python",
   "nbconvert_exporter": "python",
   "pygments_lexer": "ipython3",
   "version": "3.11.7"
  }
 },
 "nbformat": 4,
 "nbformat_minor": 5
}
