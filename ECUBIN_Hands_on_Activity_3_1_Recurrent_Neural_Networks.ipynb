{
  "cells": [
    {
      "cell_type": "markdown",
      "id": "fourth-lesbian",
      "metadata": {
        "id": "fourth-lesbian"
      },
      "source": [
        "# Activity 3.1 - Recurrent Neural Networks"
      ]
    },
    {
      "cell_type": "markdown",
      "id": "historical-import",
      "metadata": {
        "id": "historical-import"
      },
      "source": [
        "#### Objective(s):\n",
        "\n",
        "This activity aims to introduce how to build a recurrent neural network"
      ]
    },
    {
      "cell_type": "markdown",
      "id": "related-karma",
      "metadata": {
        "id": "related-karma"
      },
      "source": [
        "#### Intended Learning Outcomes (ILOs):\n",
        "* Demonstrate how to build and train neural recurrent neural network\n",
        "* Evaluate the score and accuracy of the recurrent neural network"
      ]
    },
    {
      "cell_type": "markdown",
      "id": "fossil-thermal",
      "metadata": {
        "id": "fossil-thermal"
      },
      "source": [
        "#### Resources:\n",
        "* Jupyter Notebook\n",
        "* IMDB"
      ]
    },
    {
      "cell_type": "markdown",
      "id": "australian-marketing",
      "metadata": {
        "id": "australian-marketing"
      },
      "source": [
        "#### Procedures\n",
        "Load the necessary libraries"
      ]
    },
    {
      "cell_type": "code",
      "execution_count": 1,
      "id": "based-growing",
      "metadata": {
        "id": "based-growing"
      },
      "outputs": [],
      "source": [
        "from __future__ import print_function\n",
        "import keras\n",
        "from keras.preprocessing import sequence\n",
        "from keras.models import Sequential\n",
        "from keras.layers import Dense, Embedding\n",
        "from keras.layers import SimpleRNN\n",
        "from keras.datasets import imdb\n",
        "from keras import initializers"
      ]
    },
    {
      "cell_type": "markdown",
      "id": "romance-object",
      "metadata": {
        "id": "romance-object"
      },
      "source": [
        "* Set the max_features to 20000\n",
        "* Set the maximum length of a sequence\n",
        "* Use the batch size of 32"
      ]
    },
    {
      "cell_type": "code",
      "execution_count": 2,
      "id": "pending-finance",
      "metadata": {
        "id": "pending-finance"
      },
      "outputs": [],
      "source": [
        "max_features = 20000\n",
        "maxlen = 30\n",
        "batch_size = 32"
      ]
    },
    {
      "cell_type": "markdown",
      "id": "juvenile-defensive",
      "metadata": {
        "id": "juvenile-defensive"
      },
      "source": [
        "Load the data"
      ]
    },
    {
      "cell_type": "code",
      "execution_count": 3,
      "id": "familiar-escape",
      "metadata": {
        "id": "familiar-escape",
        "colab": {
          "base_uri": "https://localhost:8080/"
        },
        "outputId": "53715559-7e97-48ca-84a6-e3f3cea50524"
      },
      "outputs": [
        {
          "output_type": "stream",
          "name": "stdout",
          "text": [
            "Downloading data from https://storage.googleapis.com/tensorflow/tf-keras-datasets/imdb.npz\n",
            "17464789/17464789 [==============================] - 1s 0us/step\n",
            "25000 train sequences\n",
            "25000 test sequences\n"
          ]
        }
      ],
      "source": [
        "(x_train, y_train), (x_test, y_test) = imdb.load_data(num_words=max_features)\n",
        "print(len(x_train), 'train sequences')\n",
        "print(len(x_test), 'test sequences')"
      ]
    },
    {
      "cell_type": "markdown",
      "id": "hairy-volleyball",
      "metadata": {
        "id": "hairy-volleyball"
      },
      "source": [
        " Truncates the sequences so that they are of the maximum length"
      ]
    },
    {
      "cell_type": "code",
      "execution_count": 4,
      "id": "distant-praise",
      "metadata": {
        "id": "distant-praise",
        "colab": {
          "base_uri": "https://localhost:8080/"
        },
        "outputId": "4b3eff9d-76e7-4614-ab56-b230ac69d3ac"
      },
      "outputs": [
        {
          "output_type": "stream",
          "name": "stdout",
          "text": [
            "x_train shape: (25000, 30)\n",
            "x_test shape: (25000, 30)\n"
          ]
        }
      ],
      "source": [
        "x_train = sequence.pad_sequences(x_train, maxlen=maxlen)\n",
        "x_test = sequence.pad_sequences(x_test, maxlen=maxlen)\n",
        "print('x_train shape:', x_train.shape)\n",
        "print('x_test shape:', x_test.shape)"
      ]
    },
    {
      "cell_type": "code",
      "execution_count": 7,
      "id": "cloudy-elimination",
      "metadata": {
        "id": "cloudy-elimination"
      },
      "outputs": [],
      "source": [
        "# Check the example of sequence"
      ]
    },
    {
      "cell_type": "code",
      "execution_count": 8,
      "id": "surprising-bacteria",
      "metadata": {
        "id": "surprising-bacteria",
        "colab": {
          "base_uri": "https://localhost:8080/"
        },
        "outputId": "a23fa766-a233-4056-8cf6-b7b4a21a258c"
      },
      "outputs": [
        {
          "output_type": "execute_result",
          "data": {
            "text/plain": [
              "array([  219,   141,    35,   221,   956,    54,    13,    16,    11,\n",
              "        2714,    61,   322,   423,    12,    38,    76,    59,  1803,\n",
              "          72,     8, 10508,    23,     5,   967,    12,    38,    85,\n",
              "          62,   358,    99], dtype=int32)"
            ]
          },
          "metadata": {},
          "execution_count": 8
        }
      ],
      "source": [
        "x_train[123,:]"
      ]
    },
    {
      "cell_type": "markdown",
      "id": "quantitative-breath",
      "metadata": {
        "id": "quantitative-breath"
      },
      "source": [
        "Build a recurrent neural network"
      ]
    },
    {
      "cell_type": "code",
      "execution_count": 9,
      "id": "closed-writer",
      "metadata": {
        "id": "closed-writer"
      },
      "outputs": [],
      "source": [
        "rnn_hidden_dim = 5\n",
        "word_embedding_dim = 50\n",
        "model_rnn = Sequential()\n",
        "model_rnn.add(Embedding(max_features, word_embedding_dim))  #This layer takes each integer in the sequence and embeds it in a 50-dimensional vector\n",
        "model_rnn.add(SimpleRNN(rnn_hidden_dim,\n",
        "                    kernel_initializer=initializers.RandomNormal(stddev=0.001),\n",
        "                    recurrent_initializer=initializers.Identity(gain=1.0),\n",
        "                    activation='relu',\n",
        "                    input_shape=x_train.shape[1:]))\n",
        "\n",
        "model_rnn.add(Dense(1, activation='sigmoid'))"
      ]
    },
    {
      "cell_type": "code",
      "execution_count": 10,
      "id": "developmental-foster",
      "metadata": {
        "id": "developmental-foster",
        "colab": {
          "base_uri": "https://localhost:8080/"
        },
        "outputId": "1a89a421-dedf-4cb6-c296-49a028c20e22"
      },
      "outputs": [
        {
          "output_type": "stream",
          "name": "stderr",
          "text": [
            "WARNING:absl:`lr` is deprecated in Keras optimizer, please use `learning_rate` or use the legacy optimizer, e.g.,tf.keras.optimizers.legacy.RMSprop.\n"
          ]
        }
      ],
      "source": [
        "rmsprop = keras.optimizers.RMSprop(lr = .0001)\n",
        "\n",
        "model_rnn.compile(loss='binary_crossentropy',\n",
        "              optimizer=rmsprop,\n",
        "              metrics=['accuracy'])"
      ]
    },
    {
      "cell_type": "code",
      "execution_count": 11,
      "id": "joined-athletics",
      "metadata": {
        "id": "joined-athletics",
        "colab": {
          "base_uri": "https://localhost:8080/"
        },
        "outputId": "554c9806-4603-484c-c0a6-8597d10d993d"
      },
      "outputs": [
        {
          "output_type": "stream",
          "name": "stdout",
          "text": [
            "Epoch 1/10\n",
            "782/782 [==============================] - 40s 47ms/step - loss: 0.6030 - accuracy: 0.6872 - val_loss: 0.5794 - val_accuracy: 0.7176\n",
            "Epoch 2/10\n",
            "782/782 [==============================] - 29s 37ms/step - loss: 0.5014 - accuracy: 0.7799 - val_loss: 0.5024 - val_accuracy: 0.7692\n",
            "Epoch 3/10\n",
            "782/782 [==============================] - 30s 38ms/step - loss: 0.4501 - accuracy: 0.8069 - val_loss: 0.5381 - val_accuracy: 0.7600\n",
            "Epoch 4/10\n",
            "782/782 [==============================] - 31s 40ms/step - loss: 0.4143 - accuracy: 0.8215 - val_loss: 0.4716 - val_accuracy: 0.7782\n",
            "Epoch 5/10\n",
            "782/782 [==============================] - 29s 37ms/step - loss: 0.3862 - accuracy: 0.8379 - val_loss: 0.4908 - val_accuracy: 0.7766\n",
            "Epoch 6/10\n",
            "782/782 [==============================] - 28s 36ms/step - loss: 0.3599 - accuracy: 0.8500 - val_loss: 0.4722 - val_accuracy: 0.7799\n",
            "Epoch 7/10\n",
            "782/782 [==============================] - 29s 37ms/step - loss: 0.3385 - accuracy: 0.8626 - val_loss: 0.4866 - val_accuracy: 0.7711\n",
            "Epoch 8/10\n",
            "782/782 [==============================] - 27s 35ms/step - loss: 0.3180 - accuracy: 0.8731 - val_loss: 0.5084 - val_accuracy: 0.7759\n",
            "Epoch 9/10\n",
            "782/782 [==============================] - 28s 36ms/step - loss: 0.2996 - accuracy: 0.8814 - val_loss: 0.5336 - val_accuracy: 0.7735\n",
            "Epoch 10/10\n",
            "782/782 [==============================] - 29s 36ms/step - loss: 0.2843 - accuracy: 0.8888 - val_loss: 0.5145 - val_accuracy: 0.7686\n"
          ]
        },
        {
          "output_type": "execute_result",
          "data": {
            "text/plain": [
              "<keras.src.callbacks.History at 0x7d79d3ef78e0>"
            ]
          },
          "metadata": {},
          "execution_count": 11
        }
      ],
      "source": [
        "model_rnn.fit(x_train, y_train,\n",
        "          batch_size=batch_size,\n",
        "          epochs=10,\n",
        "          validation_data=(x_test, y_test))"
      ]
    },
    {
      "cell_type": "markdown",
      "id": "freelance-proposal",
      "metadata": {
        "id": "freelance-proposal"
      },
      "source": [
        "Evaluate the model using the test set."
      ]
    },
    {
      "cell_type": "code",
      "execution_count": 12,
      "id": "early-connecticut",
      "metadata": {
        "id": "early-connecticut",
        "colab": {
          "base_uri": "https://localhost:8080/"
        },
        "outputId": "55ae182c-aab4-4c99-f477-5e6e3bb06266"
      },
      "outputs": [
        {
          "output_type": "stream",
          "name": "stdout",
          "text": [
            "782/782 [==============================] - 4s 5ms/step - loss: 0.5145 - accuracy: 0.7686\n",
            "Test score: 0.5144986510276794\n",
            "Test accuracy: 0.7686399817466736\n"
          ]
        }
      ],
      "source": [
        "score, acc = model_rnn.evaluate(x_test, y_test,\n",
        "                            batch_size=batch_size)\n",
        "print('Test score:', score)\n",
        "print('Test accuracy:', acc)"
      ]
    },
    {
      "cell_type": "markdown",
      "id": "miniature-generic",
      "metadata": {
        "id": "miniature-generic"
      },
      "source": [
        "Interpret the result"
      ]
    },
    {
      "cell_type": "markdown",
      "id": "marine-cotton",
      "metadata": {
        "id": "marine-cotton"
      },
      "source": [
        "#type your answer here\n",
        "\n",
        "The RNN model achieves a test accuracy of about 76.86%. This means it's performing reasonably well, but there's still room for improvement. The loss of 0.5145 indicates that there's a moderate amount of error in the predictions."
      ]
    },
    {
      "cell_type": "markdown",
      "id": "planned-detection",
      "metadata": {
        "id": "planned-detection"
      },
      "source": [
        "#### Supplementary Activity"
      ]
    },
    {
      "cell_type": "markdown",
      "id": "industrial-frequency",
      "metadata": {
        "id": "industrial-frequency"
      },
      "source": [
        "- Prepare the data to use sequences of length 80 rather than length 30.  Did it improve the performance?\n",
        "- Try different values of the \"max_features\".  Can you improve the performance?\n",
        "- Try smaller and larger sizes of the RNN hidden dimension.  How does it affect the model performance?  How does it affect the run time?"
      ]
    },
    {
      "cell_type": "markdown",
      "id": "limiting-bachelor",
      "metadata": {
        "id": "limiting-bachelor"
      },
      "source": [
        "#type your answer here"
      ]
    },
    {
      "cell_type": "markdown",
      "source": [
        "# #1"
      ],
      "metadata": {
        "id": "CRHP4EegW127"
      },
      "id": "CRHP4EegW127"
    },
    {
      "cell_type": "code",
      "execution_count": 30,
      "id": "important-delight",
      "metadata": {
        "id": "important-delight"
      },
      "outputs": [],
      "source": [
        "# type your code here\n",
        "#different values of max_features and maxlen\n",
        "max_features = 10000\n",
        "maxlen = 80\n",
        "batch_size = 32"
      ]
    },
    {
      "cell_type": "code",
      "source": [
        "(x_train, y_train), (x_test, y_test) = imdb.load_data(num_words=max_features)\n",
        "print(len(x_train), 'train sequences')\n",
        "print(len(x_test), 'test sequences')"
      ],
      "metadata": {
        "colab": {
          "base_uri": "https://localhost:8080/"
        },
        "id": "w-fjvYWdWmRt",
        "outputId": "70a94895-ef4b-4307-db37-17186a322be0"
      },
      "id": "w-fjvYWdWmRt",
      "execution_count": 31,
      "outputs": [
        {
          "output_type": "stream",
          "name": "stdout",
          "text": [
            "25000 train sequences\n",
            "25000 test sequences\n"
          ]
        }
      ]
    },
    {
      "cell_type": "code",
      "source": [
        "x_train = sequence.pad_sequences(x_train, maxlen=maxlen)\n",
        "x_test = sequence.pad_sequences(x_test, maxlen=maxlen)\n",
        "print('x_train shape:', x_train.shape)\n",
        "print('x_test shape:', x_test.shape)"
      ],
      "metadata": {
        "colab": {
          "base_uri": "https://localhost:8080/"
        },
        "id": "J2Hece0nWv3j",
        "outputId": "3b43caae-25bf-4cf9-e74f-3be976f59721"
      },
      "id": "J2Hece0nWv3j",
      "execution_count": 32,
      "outputs": [
        {
          "output_type": "stream",
          "name": "stdout",
          "text": [
            "x_train shape: (25000, 80)\n",
            "x_test shape: (25000, 80)\n"
          ]
        }
      ]
    },
    {
      "cell_type": "code",
      "source": [
        "# Trying smaller size of RNN hidden dimension\n",
        "rnn_hidden_dim = 2\n",
        "word_embedding_dim = 50\n",
        "supp_model1 = Sequential()\n",
        "supp_model1.add(Embedding(max_features, word_embedding_dim))  #This layer takes each integer in the sequence and embeds it in a 50-dimensional vector\n",
        "supp_model1.add(SimpleRNN(rnn_hidden_dim,\n",
        "                    kernel_initializer=initializers.RandomNormal(stddev=0.001),\n",
        "                    recurrent_initializer=initializers.Identity(gain=1.0),\n",
        "                    activation='relu',\n",
        "                    input_shape=x_train.shape[1:]))\n",
        "\n",
        "supp_model1.add(Dense(1, activation='sigmoid'))"
      ],
      "metadata": {
        "id": "Y8VqrAiGWyyL"
      },
      "id": "Y8VqrAiGWyyL",
      "execution_count": 33,
      "outputs": []
    },
    {
      "cell_type": "code",
      "source": [
        "rmsprop = keras.optimizers.RMSprop(lr = .0001)\n",
        "\n",
        "supp_model1.compile(loss='binary_crossentropy',\n",
        "              optimizer=rmsprop,\n",
        "              metrics=['accuracy'])"
      ],
      "metadata": {
        "colab": {
          "base_uri": "https://localhost:8080/"
        },
        "id": "Oht0Jxg2W7-S",
        "outputId": "511fe45f-c3ae-4ee4-bab9-2de5ccef0cf8"
      },
      "id": "Oht0Jxg2W7-S",
      "execution_count": 34,
      "outputs": [
        {
          "output_type": "stream",
          "name": "stderr",
          "text": [
            "WARNING:absl:`lr` is deprecated in Keras optimizer, please use `learning_rate` or use the legacy optimizer, e.g.,tf.keras.optimizers.legacy.RMSprop.\n"
          ]
        }
      ]
    },
    {
      "cell_type": "code",
      "source": [
        "supp_model1.fit(x_train, y_train,\n",
        "          batch_size=batch_size,\n",
        "          epochs=10,\n",
        "          validation_data=(x_test, y_test))"
      ],
      "metadata": {
        "colab": {
          "base_uri": "https://localhost:8080/"
        },
        "id": "X69n_qgcW-SX",
        "outputId": "0cab15ef-3403-484e-93d1-4f1498ff7270"
      },
      "id": "X69n_qgcW-SX",
      "execution_count": 35,
      "outputs": [
        {
          "output_type": "stream",
          "name": "stdout",
          "text": [
            "Epoch 1/10\n",
            "782/782 [==============================] - 84s 106ms/step - loss: 0.5826 - accuracy: 0.7122 - val_loss: 0.5095 - val_accuracy: 0.8073\n",
            "Epoch 2/10\n",
            "782/782 [==============================] - 71s 91ms/step - loss: 0.4421 - accuracy: 0.8337 - val_loss: 0.5156 - val_accuracy: 0.7469\n",
            "Epoch 3/10\n",
            "782/782 [==============================] - 63s 81ms/step - loss: 0.3741 - accuracy: 0.8580 - val_loss: 0.4905 - val_accuracy: 0.8034\n",
            "Epoch 4/10\n",
            "782/782 [==============================] - 65s 83ms/step - loss: 0.3294 - accuracy: 0.8750 - val_loss: 0.5142 - val_accuracy: 0.7411\n",
            "Epoch 5/10\n",
            "782/782 [==============================] - 67s 86ms/step - loss: 0.3003 - accuracy: 0.8872 - val_loss: 0.7014 - val_accuracy: 0.7697\n",
            "Epoch 6/10\n",
            "782/782 [==============================] - 70s 89ms/step - loss: 0.2773 - accuracy: 0.8951 - val_loss: 0.3992 - val_accuracy: 0.8279\n",
            "Epoch 7/10\n",
            "782/782 [==============================] - 68s 87ms/step - loss: 0.2576 - accuracy: 0.9057 - val_loss: 0.4260 - val_accuracy: 0.8286\n",
            "Epoch 8/10\n",
            "782/782 [==============================] - 67s 86ms/step - loss: 0.2433 - accuracy: 0.9093 - val_loss: 0.4198 - val_accuracy: 0.8134\n",
            "Epoch 9/10\n",
            "782/782 [==============================] - 68s 87ms/step - loss: 0.2300 - accuracy: 0.9174 - val_loss: 0.4316 - val_accuracy: 0.8104\n",
            "Epoch 10/10\n",
            "782/782 [==============================] - 66s 85ms/step - loss: 0.2187 - accuracy: 0.9202 - val_loss: 0.4665 - val_accuracy: 0.8002\n"
          ]
        },
        {
          "output_type": "execute_result",
          "data": {
            "text/plain": [
              "<keras.src.callbacks.History at 0x7d7935c46470>"
            ]
          },
          "metadata": {},
          "execution_count": 35
        }
      ]
    },
    {
      "cell_type": "code",
      "source": [
        "score, acc = supp_model1.evaluate(x_test, y_test,\n",
        "                            batch_size=batch_size)\n",
        "print('Test score:', score)\n",
        "print('Test accuracy:', acc)"
      ],
      "metadata": {
        "colab": {
          "base_uri": "https://localhost:8080/"
        },
        "id": "Yekk-tQ2ailo",
        "outputId": "eabf75d1-20fa-4c2d-c16d-2717e94d5542"
      },
      "id": "Yekk-tQ2ailo",
      "execution_count": 36,
      "outputs": [
        {
          "output_type": "stream",
          "name": "stdout",
          "text": [
            "782/782 [==============================] - 7s 9ms/step - loss: 0.4665 - accuracy: 0.8002\n",
            "Test score: 0.4664912223815918\n",
            "Test accuracy: 0.8001999855041504\n"
          ]
        }
      ]
    },
    {
      "cell_type": "code",
      "source": [
        "# Trying larger size of RNN hidden dimension\n",
        "rnn_hidden_dim = 10\n",
        "word_embedding_dim = 50\n",
        "supp_model2 = Sequential()\n",
        "supp_model2.add(Embedding(max_features, word_embedding_dim))  #This layer takes each integer in the sequence and embeds it in a 50-dimensional vector\n",
        "supp_model2.add(SimpleRNN(rnn_hidden_dim,\n",
        "                    kernel_initializer=initializers.RandomNormal(stddev=0.001),\n",
        "                    recurrent_initializer=initializers.Identity(gain=1.0),\n",
        "                    activation='relu',\n",
        "                    input_shape=x_train.shape[1:]))\n",
        "\n",
        "supp_model2.add(Dense(1, activation='sigmoid'))"
      ],
      "metadata": {
        "id": "rwWaqHmoartS"
      },
      "id": "rwWaqHmoartS",
      "execution_count": 37,
      "outputs": []
    },
    {
      "cell_type": "code",
      "source": [
        "rmsprop = keras.optimizers.RMSprop(lr = .0001)\n",
        "\n",
        "supp_model2.compile(loss='binary_crossentropy',\n",
        "              optimizer=rmsprop,\n",
        "              metrics=['accuracy'])\n",
        "\n",
        "supp_model2.fit(x_train, y_train,\n",
        "          batch_size=batch_size,\n",
        "          epochs=10,\n",
        "          validation_data=(x_test, y_test))"
      ],
      "metadata": {
        "colab": {
          "base_uri": "https://localhost:8080/"
        },
        "outputId": "9f3cd001-9f57-4355-d175-d9f641b22fd9",
        "id": "e8jj_3ZgazgN"
      },
      "execution_count": 38,
      "outputs": [
        {
          "output_type": "stream",
          "name": "stderr",
          "text": [
            "WARNING:absl:`lr` is deprecated in Keras optimizer, please use `learning_rate` or use the legacy optimizer, e.g.,tf.keras.optimizers.legacy.RMSprop.\n"
          ]
        },
        {
          "output_type": "stream",
          "name": "stdout",
          "text": [
            "Epoch 1/10\n",
            "782/782 [==============================] - 74s 94ms/step - loss: 0.4713 - accuracy: 0.7577 - val_loss: 0.3926 - val_accuracy: 0.8211\n",
            "Epoch 2/10\n",
            "782/782 [==============================] - 67s 86ms/step - loss: 0.3260 - accuracy: 0.8584 - val_loss: 0.3645 - val_accuracy: 0.8405\n",
            "Epoch 3/10\n",
            "782/782 [==============================] - 70s 90ms/step - loss: 0.2899 - accuracy: 0.8798 - val_loss: 0.3582 - val_accuracy: 0.8428\n",
            "Epoch 4/10\n",
            "782/782 [==============================] - 63s 80ms/step - loss: 0.2682 - accuracy: 0.8896 - val_loss: 0.3720 - val_accuracy: 0.8327\n",
            "Epoch 5/10\n",
            "782/782 [==============================] - 63s 80ms/step - loss: 0.2507 - accuracy: 0.8989 - val_loss: 0.3766 - val_accuracy: 0.8409\n",
            "Epoch 6/10\n",
            "782/782 [==============================] - 65s 83ms/step - loss: 0.2341 - accuracy: 0.9069 - val_loss: 0.3952 - val_accuracy: 0.8332\n",
            "Epoch 7/10\n",
            "782/782 [==============================] - 67s 85ms/step - loss: 0.2221 - accuracy: 0.9114 - val_loss: 0.3867 - val_accuracy: 0.8373\n",
            "Epoch 8/10\n",
            "782/782 [==============================] - 63s 81ms/step - loss: 0.2105 - accuracy: 0.9196 - val_loss: 0.4130 - val_accuracy: 0.8352\n",
            "Epoch 9/10\n",
            "782/782 [==============================] - 65s 83ms/step - loss: 0.1987 - accuracy: 0.9232 - val_loss: 0.3908 - val_accuracy: 0.8321\n",
            "Epoch 10/10\n",
            "782/782 [==============================] - 64s 81ms/step - loss: 0.1881 - accuracy: 0.9300 - val_loss: 0.4419 - val_accuracy: 0.8280\n"
          ]
        },
        {
          "output_type": "execute_result",
          "data": {
            "text/plain": [
              "<keras.src.callbacks.History at 0x7d79d247a9e0>"
            ]
          },
          "metadata": {},
          "execution_count": 38
        }
      ],
      "id": "e8jj_3ZgazgN"
    },
    {
      "cell_type": "code",
      "source": [
        "score, acc = supp_model2.evaluate(x_test, y_test,\n",
        "                            batch_size=batch_size)\n",
        "print('Test score:', score)\n",
        "print('Test accuracy:', acc)"
      ],
      "metadata": {
        "colab": {
          "base_uri": "https://localhost:8080/"
        },
        "id": "zKIRX6nhdmzW",
        "outputId": "ef82f183-ea5a-450e-a4b1-83068173f08c"
      },
      "id": "zKIRX6nhdmzW",
      "execution_count": 39,
      "outputs": [
        {
          "output_type": "stream",
          "name": "stdout",
          "text": [
            "782/782 [==============================] - 8s 10ms/step - loss: 0.4419 - accuracy: 0.8280\n",
            "Test score: 0.44188082218170166\n",
            "Test accuracy: 0.8279600143432617\n"
          ]
        }
      ]
    },
    {
      "cell_type": "markdown",
      "id": "signal-federal",
      "metadata": {
        "id": "signal-federal"
      },
      "source": [
        "#### Conclusion"
      ]
    },
    {
      "cell_type": "markdown",
      "id": "interpreted-stadium",
      "metadata": {
        "id": "interpreted-stadium"
      },
      "source": [
        "#type your answer here\n",
        "\n"
      ]
    },
    {
      "cell_type": "markdown",
      "source": [
        "Recurrent Neural Networks (RNNs) are powerful tools for analyzing sequential data like text. After doing the supplementary activity, increasing sequence length captures longer-term dependencies but can increase training time. Decreasing max_features simplifies the vocabulary, potentially aiding generalization. Increasing the hidden dimension allows the model to learn more complex patterns but may lead to overfitting. However, in the case of this activity, the test accuracy and score improves."
      ],
      "metadata": {
        "id": "78L25269fCQa"
      },
      "id": "78L25269fCQa"
    },
    {
      "cell_type": "code",
      "execution_count": null,
      "id": "marine-wyoming",
      "metadata": {
        "id": "marine-wyoming"
      },
      "outputs": [],
      "source": []
    }
  ],
  "metadata": {
    "kernelspec": {
      "display_name": "Python 3",
      "name": "python3"
    },
    "language_info": {
      "codemirror_mode": {
        "name": "ipython",
        "version": 3
      },
      "file_extension": ".py",
      "mimetype": "text/x-python",
      "name": "python",
      "nbconvert_exporter": "python",
      "pygments_lexer": "ipython3",
      "version": "3.7.10"
    },
    "colab": {
      "provenance": [],
      "gpuType": "T4"
    },
    "accelerator": "GPU"
  },
  "nbformat": 4,
  "nbformat_minor": 5
}